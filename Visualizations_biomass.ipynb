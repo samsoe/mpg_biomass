{
  "nbformat": 4,
  "nbformat_minor": 0,
  "metadata": {
    "colab": {
      "name": "Visualizations - biomass",
      "provenance": [],
      "toc_visible": true,
      "authorship_tag": "ABX9TyOgc05u1EIlmNmffa3PV+SG",
      "include_colab_link": true
    },
    "kernelspec": {
      "name": "ir",
      "display_name": "R"
    },
    "accelerator": "GPU"
  },
  "cells": [
    {
      "cell_type": "markdown",
      "metadata": {
        "id": "view-in-github",
        "colab_type": "text"
      },
      "source": [
        "<a href=\"https://colab.research.google.com/github/samsoe/mpg_biomass/blob/master/Visualizations_biomass.ipynb\" target=\"_parent\"><img src=\"https://colab.research.google.com/assets/colab-badge.svg\" alt=\"Open In Colab\"/></a>"
      ]
    },
    {
      "cell_type": "markdown",
      "metadata": {
        "id": "eNsz2cqfWBuB",
        "colab_type": "text"
      },
      "source": [
        "bigrquery [Documentation](https://www.rdocumentation.org/packages/bigrquery/versions/1.2.0)\n",
        "* billing [documentation](https://github.com/r-dbi/bigrquery/issues/366)"
      ]
    },
    {
      "cell_type": "markdown",
      "metadata": {
        "id": "Cq2Ghrnq4OaF",
        "colab_type": "text"
      },
      "source": [
        "This is an R Notebook.  An API key needs to be generated externally and uploaded for reasons."
      ]
    },
    {
      "cell_type": "markdown",
      "metadata": {
        "id": "QnsZ7WkjFadJ",
        "colab_type": "text"
      },
      "source": [
        "# Gather Tools"
      ]
    },
    {
      "cell_type": "code",
      "metadata": {
        "id": "_zlPNKS1Pprr",
        "colab_type": "code",
        "outputId": "9d1eb3c3-d970-4b0b-e290-1f85bafd5fcc",
        "colab": {
          "base_uri": "https://localhost:8080/",
          "height": 221
        }
      },
      "source": [
        "# bigquery api access\n",
        "install.packages(\"bigrquery\")\n",
        "install.packages(\"httpuv\")\n",
        "install.packages(\"googleAuthR\")"
      ],
      "execution_count": 0,
      "outputs": [
        {
          "output_type": "stream",
          "text": [
            "Installing package into ‘/usr/local/lib/R/site-library’\n",
            "(as ‘lib’ is unspecified)\n",
            "\n",
            "also installing the dependencies ‘bit’, ‘bit64’, ‘gargle’, ‘rapidjsonr’\n",
            "\n",
            "\n",
            "Installing package into ‘/usr/local/lib/R/site-library’\n",
            "(as ‘lib’ is unspecified)\n",
            "\n",
            "Installing package into ‘/usr/local/lib/R/site-library’\n",
            "(as ‘lib’ is unspecified)\n",
            "\n"
          ],
          "name": "stderr"
        }
      ]
    },
    {
      "cell_type": "code",
      "metadata": {
        "id": "5j51mLbKS_UX",
        "colab_type": "code",
        "outputId": "a0ceb9d0-4df5-43e4-c179-6be75c8c0fdf",
        "colab": {
          "base_uri": "https://localhost:8080/",
          "height": 255
        }
      },
      "source": [
        "library(bigrquery)\n",
        "library(httpuv)\n",
        "library(tidyr)\n",
        "library(ggplot2)\n",
        "library(dplyr)"
      ],
      "execution_count": 0,
      "outputs": [
        {
          "output_type": "stream",
          "text": [
            "\n",
            "Attaching package: ‘dplyr’\n",
            "\n",
            "\n",
            "The following objects are masked from ‘package:stats’:\n",
            "\n",
            "    filter, lag\n",
            "\n",
            "\n",
            "The following objects are masked from ‘package:base’:\n",
            "\n",
            "    intersect, setdiff, setequal, union\n",
            "\n",
            "\n"
          ],
          "name": "stderr"
        }
      ]
    },
    {
      "cell_type": "code",
      "metadata": {
        "id": "GhYSJvsGKO6U",
        "colab_type": "code",
        "colab": {}
      },
      "source": [
        "# set display width\n",
        "library(repr)\n",
        "options(repr.plot.width=17)"
      ],
      "execution_count": 0,
      "outputs": []
    },
    {
      "cell_type": "markdown",
      "metadata": {
        "id": "hvU4eSoeFeq1",
        "colab_type": "text"
      },
      "source": [
        "# Database Connection"
      ]
    },
    {
      "cell_type": "code",
      "metadata": {
        "id": "0xg2GBARfMEJ",
        "colab_type": "code",
        "colab": {}
      },
      "source": [
        "# BigQuery API Key\n",
        "bq_auth(path = \"/content/mpg-data-warehouse-34434e1a9914.json\")"
      ],
      "execution_count": 0,
      "outputs": []
    },
    {
      "cell_type": "code",
      "metadata": {
        "id": "sLzd7hNSsodn",
        "colab_type": "code",
        "colab": {}
      },
      "source": [
        "Sys.setenv(BIGQUERY_TEST_PROJECT = \"mpg-data-warehouse\")"
      ],
      "execution_count": 0,
      "outputs": []
    },
    {
      "cell_type": "code",
      "metadata": {
        "id": "M2tWFYLyrxjw",
        "colab_type": "code",
        "colab": {}
      },
      "source": [
        "billing <- bq_test_project()"
      ],
      "execution_count": 0,
      "outputs": []
    },
    {
      "cell_type": "markdown",
      "metadata": {
        "id": "O1yrTU6EO91c",
        "colab_type": "text"
      },
      "source": [
        "# Combined"
      ]
    },
    {
      "cell_type": "markdown",
      "metadata": {
        "id": "G_wXhcVQH9dm",
        "colab_type": "text"
      },
      "source": [
        "## Query Database"
      ]
    },
    {
      "cell_type": "code",
      "metadata": {
        "id": "RrSHNP1RNin2",
        "colab_type": "code",
        "colab": {}
      },
      "source": [
        "sql <- \"SELECT \n",
        "          grid_point, \n",
        "          date, \n",
        "          year, \n",
        "          season, \n",
        "          grass_g,\n",
        "          forb_g,\n",
        "          pooled_g\n",
        "        FROM \n",
        "          `mpg-data-warehouse.vegetation_biomass.vegetation_biomass`\""
      ],
      "execution_count": 0,
      "outputs": []
    },
    {
      "cell_type": "code",
      "metadata": {
        "id": "VCS3vdw-NrPs",
        "colab_type": "code",
        "colab": {}
      },
      "source": [
        "tb <- bq_project_query(billing, sql)"
      ],
      "execution_count": 0,
      "outputs": []
    },
    {
      "cell_type": "code",
      "metadata": {
        "id": "ICDrRddYNySf",
        "colab_type": "code",
        "colab": {}
      },
      "source": [
        "combined_result = bq_table_download(tb)"
      ],
      "execution_count": 0,
      "outputs": []
    },
    {
      "cell_type": "code",
      "metadata": {
        "id": "DuvhjBzjO3eS",
        "colab_type": "code",
        "outputId": "19ff3580-b744-49d9-b510-4ecc2ecb0ea3",
        "colab": {
          "base_uri": "https://localhost:8080/",
          "height": 34
        }
      },
      "source": [
        "class(combined_result)"
      ],
      "execution_count": 0,
      "outputs": [
        {
          "output_type": "display_data",
          "data": {
            "text/plain": [
              "[1] \"tbl_df\"     \"tbl\"        \"data.frame\""
            ],
            "text/latex": "\\begin{enumerate*}\n\\item 'tbl\\_df'\n\\item 'tbl'\n\\item 'data.frame'\n\\end{enumerate*}\n",
            "text/markdown": "1. 'tbl_df'\n2. 'tbl'\n3. 'data.frame'\n\n\n",
            "text/html": [
              "<style>\n",
              ".list-inline {list-style: none; margin:0; padding: 0}\n",
              ".list-inline>li {display: inline-block}\n",
              ".list-inline>li:not(:last-child)::after {content: \"\\00b7\"; padding: 0 .5ex}\n",
              "</style>\n",
              "<ol class=list-inline><li>'tbl_df'</li><li>'tbl'</li><li>'data.frame'</li></ol>\n"
            ]
          },
          "metadata": {
            "tags": []
          }
        }
      ]
    },
    {
      "cell_type": "markdown",
      "metadata": {
        "id": "q43CktoJIBJL",
        "colab_type": "text"
      },
      "source": [
        "## Format"
      ]
    },
    {
      "cell_type": "code",
      "metadata": {
        "id": "x__SxQLHP0x3",
        "colab_type": "code",
        "colab": {}
      },
      "source": [
        "# convert to data frame\n",
        "combined <- as.data.frame(combined_result)"
      ],
      "execution_count": 0,
      "outputs": []
    },
    {
      "cell_type": "code",
      "metadata": {
        "id": "NlXNhJ33QEe5",
        "colab_type": "code",
        "colab": {}
      },
      "source": [
        "combined$year <- as.factor(combined$year)"
      ],
      "execution_count": 0,
      "outputs": []
    },
    {
      "cell_type": "code",
      "metadata": {
        "id": "NEw-kk1fQXgj",
        "colab_type": "code",
        "colab": {}
      },
      "source": [
        "combined$season <- as.factor(combined$season)"
      ],
      "execution_count": 0,
      "outputs": []
    },
    {
      "cell_type": "code",
      "metadata": {
        "id": "8cpzj8IgQQaY",
        "colab_type": "code",
        "outputId": "0b7993eb-6e8b-4450-b297-de9eb58cd665",
        "colab": {
          "base_uri": "https://localhost:8080/",
          "height": 204
        }
      },
      "source": [
        "head(combined)"
      ],
      "execution_count": 0,
      "outputs": [
        {
          "output_type": "display_data",
          "data": {
            "text/plain": [
              "  grid_point date year season grass_g forb_g   pooled_g\n",
              "1 287        <NA> 2017 spring 1.82    2.686667     NA  \n",
              "2   3        <NA> 2010 fall     NA          NA 7.3050  \n",
              "3   4        <NA> 2010 fall     NA          NA 1.5125  \n",
              "4   5        <NA> 2010 fall     NA          NA 7.4350  \n",
              "5   6        <NA> 2010 fall     NA          NA 3.9150  \n",
              "6   7        <NA> 2010 fall     NA          NA 3.1950  "
            ],
            "text/latex": "A data.frame: 6 × 7\n\\begin{tabular}{r|lllllll}\n  & grid\\_point & date & year & season & grass\\_g & forb\\_g & pooled\\_g\\\\\n  & <int> & <dttm> & <fct> & <fct> & <dbl> & <dbl> & <dbl>\\\\\n\\hline\n\t1 & 287 & NA & 2017 & spring & 1.82 & 2.686667 &     NA\\\\\n\t2 &   3 & NA & 2010 & fall   &   NA &       NA & 7.3050\\\\\n\t3 &   4 & NA & 2010 & fall   &   NA &       NA & 1.5125\\\\\n\t4 &   5 & NA & 2010 & fall   &   NA &       NA & 7.4350\\\\\n\t5 &   6 & NA & 2010 & fall   &   NA &       NA & 3.9150\\\\\n\t6 &   7 & NA & 2010 & fall   &   NA &       NA & 3.1950\\\\\n\\end{tabular}\n",
            "text/markdown": "\nA data.frame: 6 × 7\n\n| <!--/--> | grid_point &lt;int&gt; | date &lt;dttm&gt; | year &lt;fct&gt; | season &lt;fct&gt; | grass_g &lt;dbl&gt; | forb_g &lt;dbl&gt; | pooled_g &lt;dbl&gt; |\n|---|---|---|---|---|---|---|---|\n| 1 | 287 | NA | 2017 | spring | 1.82 | 2.686667 |     NA |\n| 2 |   3 | NA | 2010 | fall   |   NA |       NA | 7.3050 |\n| 3 |   4 | NA | 2010 | fall   |   NA |       NA | 1.5125 |\n| 4 |   5 | NA | 2010 | fall   |   NA |       NA | 7.4350 |\n| 5 |   6 | NA | 2010 | fall   |   NA |       NA | 3.9150 |\n| 6 |   7 | NA | 2010 | fall   |   NA |       NA | 3.1950 |\n\n",
            "text/html": [
              "<table>\n",
              "<caption>A data.frame: 6 × 7</caption>\n",
              "<thead>\n",
              "\t<tr><th></th><th scope=col>grid_point</th><th scope=col>date</th><th scope=col>year</th><th scope=col>season</th><th scope=col>grass_g</th><th scope=col>forb_g</th><th scope=col>pooled_g</th></tr>\n",
              "\t<tr><th></th><th scope=col>&lt;int&gt;</th><th scope=col>&lt;dttm&gt;</th><th scope=col>&lt;fct&gt;</th><th scope=col>&lt;fct&gt;</th><th scope=col>&lt;dbl&gt;</th><th scope=col>&lt;dbl&gt;</th><th scope=col>&lt;dbl&gt;</th></tr>\n",
              "</thead>\n",
              "<tbody>\n",
              "\t<tr><th scope=row>1</th><td>287</td><td>NA</td><td>2017</td><td>spring</td><td>1.82</td><td>2.686667</td><td>    NA</td></tr>\n",
              "\t<tr><th scope=row>2</th><td>  3</td><td>NA</td><td>2010</td><td>fall  </td><td>  NA</td><td>      NA</td><td>7.3050</td></tr>\n",
              "\t<tr><th scope=row>3</th><td>  4</td><td>NA</td><td>2010</td><td>fall  </td><td>  NA</td><td>      NA</td><td>1.5125</td></tr>\n",
              "\t<tr><th scope=row>4</th><td>  5</td><td>NA</td><td>2010</td><td>fall  </td><td>  NA</td><td>      NA</td><td>7.4350</td></tr>\n",
              "\t<tr><th scope=row>5</th><td>  6</td><td>NA</td><td>2010</td><td>fall  </td><td>  NA</td><td>      NA</td><td>3.9150</td></tr>\n",
              "\t<tr><th scope=row>6</th><td>  7</td><td>NA</td><td>2010</td><td>fall  </td><td>  NA</td><td>      NA</td><td>3.1950</td></tr>\n",
              "</tbody>\n",
              "</table>\n"
            ]
          },
          "metadata": {
            "tags": []
          }
        }
      ]
    },
    {
      "cell_type": "code",
      "metadata": {
        "id": "_emqWoZnKdxC",
        "colab_type": "code",
        "colab": {}
      },
      "source": [
        "combined$ave_g <- rowSums(combined[,c(\"grass_g\", \"forb_g\", \"pooled_g\")], na.rm=TRUE)"
      ],
      "execution_count": 0,
      "outputs": []
    },
    {
      "cell_type": "code",
      "metadata": {
        "id": "ILs4kmWHKelI",
        "colab_type": "code",
        "outputId": "d31ffec2-0535-42bc-a5b1-306f534cecc4",
        "colab": {
          "base_uri": "https://localhost:8080/",
          "height": 204
        }
      },
      "source": [
        "head(combined)"
      ],
      "execution_count": 0,
      "outputs": [
        {
          "output_type": "display_data",
          "data": {
            "text/plain": [
              "  grid_point date year season grass_g forb_g   pooled_g ave_g   \n",
              "1 287        <NA> 2017 spring 1.82    2.686667     NA   4.506667\n",
              "2   3        <NA> 2010 fall     NA          NA 7.3050   7.305000\n",
              "3   4        <NA> 2010 fall     NA          NA 1.5125   1.512500\n",
              "4   5        <NA> 2010 fall     NA          NA 7.4350   7.435000\n",
              "5   6        <NA> 2010 fall     NA          NA 3.9150   3.915000\n",
              "6   7        <NA> 2010 fall     NA          NA 3.1950   3.195000"
            ],
            "text/latex": "A data.frame: 6 × 8\n\\begin{tabular}{r|llllllll}\n  & grid\\_point & date & year & season & grass\\_g & forb\\_g & pooled\\_g & ave\\_g\\\\\n  & <int> & <dttm> & <fct> & <fct> & <dbl> & <dbl> & <dbl> & <dbl>\\\\\n\\hline\n\t1 & 287 & NA & 2017 & spring & 1.82 & 2.686667 &     NA & 4.506667\\\\\n\t2 &   3 & NA & 2010 & fall   &   NA &       NA & 7.3050 & 7.305000\\\\\n\t3 &   4 & NA & 2010 & fall   &   NA &       NA & 1.5125 & 1.512500\\\\\n\t4 &   5 & NA & 2010 & fall   &   NA &       NA & 7.4350 & 7.435000\\\\\n\t5 &   6 & NA & 2010 & fall   &   NA &       NA & 3.9150 & 3.915000\\\\\n\t6 &   7 & NA & 2010 & fall   &   NA &       NA & 3.1950 & 3.195000\\\\\n\\end{tabular}\n",
            "text/markdown": "\nA data.frame: 6 × 8\n\n| <!--/--> | grid_point &lt;int&gt; | date &lt;dttm&gt; | year &lt;fct&gt; | season &lt;fct&gt; | grass_g &lt;dbl&gt; | forb_g &lt;dbl&gt; | pooled_g &lt;dbl&gt; | ave_g &lt;dbl&gt; |\n|---|---|---|---|---|---|---|---|---|\n| 1 | 287 | NA | 2017 | spring | 1.82 | 2.686667 |     NA | 4.506667 |\n| 2 |   3 | NA | 2010 | fall   |   NA |       NA | 7.3050 | 7.305000 |\n| 3 |   4 | NA | 2010 | fall   |   NA |       NA | 1.5125 | 1.512500 |\n| 4 |   5 | NA | 2010 | fall   |   NA |       NA | 7.4350 | 7.435000 |\n| 5 |   6 | NA | 2010 | fall   |   NA |       NA | 3.9150 | 3.915000 |\n| 6 |   7 | NA | 2010 | fall   |   NA |       NA | 3.1950 | 3.195000 |\n\n",
            "text/html": [
              "<table>\n",
              "<caption>A data.frame: 6 × 8</caption>\n",
              "<thead>\n",
              "\t<tr><th></th><th scope=col>grid_point</th><th scope=col>date</th><th scope=col>year</th><th scope=col>season</th><th scope=col>grass_g</th><th scope=col>forb_g</th><th scope=col>pooled_g</th><th scope=col>ave_g</th></tr>\n",
              "\t<tr><th></th><th scope=col>&lt;int&gt;</th><th scope=col>&lt;dttm&gt;</th><th scope=col>&lt;fct&gt;</th><th scope=col>&lt;fct&gt;</th><th scope=col>&lt;dbl&gt;</th><th scope=col>&lt;dbl&gt;</th><th scope=col>&lt;dbl&gt;</th><th scope=col>&lt;dbl&gt;</th></tr>\n",
              "</thead>\n",
              "<tbody>\n",
              "\t<tr><th scope=row>1</th><td>287</td><td>NA</td><td>2017</td><td>spring</td><td>1.82</td><td>2.686667</td><td>    NA</td><td>4.506667</td></tr>\n",
              "\t<tr><th scope=row>2</th><td>  3</td><td>NA</td><td>2010</td><td>fall  </td><td>  NA</td><td>      NA</td><td>7.3050</td><td>7.305000</td></tr>\n",
              "\t<tr><th scope=row>3</th><td>  4</td><td>NA</td><td>2010</td><td>fall  </td><td>  NA</td><td>      NA</td><td>1.5125</td><td>1.512500</td></tr>\n",
              "\t<tr><th scope=row>4</th><td>  5</td><td>NA</td><td>2010</td><td>fall  </td><td>  NA</td><td>      NA</td><td>7.4350</td><td>7.435000</td></tr>\n",
              "\t<tr><th scope=row>5</th><td>  6</td><td>NA</td><td>2010</td><td>fall  </td><td>  NA</td><td>      NA</td><td>3.9150</td><td>3.915000</td></tr>\n",
              "\t<tr><th scope=row>6</th><td>  7</td><td>NA</td><td>2010</td><td>fall  </td><td>  NA</td><td>      NA</td><td>3.1950</td><td>3.195000</td></tr>\n",
              "</tbody>\n",
              "</table>\n"
            ]
          },
          "metadata": {
            "tags": []
          }
        }
      ]
    },
    {
      "cell_type": "code",
      "metadata": {
        "id": "If7USNScNK3U",
        "colab_type": "code",
        "colab": {}
      },
      "source": [
        "# # output dataframe for future use\n",
        "# output = \"biomass_combined-2020_04_13.csv\"\n",
        "# write.csv(combined, output)"
      ],
      "execution_count": 0,
      "outputs": []
    },
    {
      "cell_type": "markdown",
      "metadata": {
        "id": "F2k61Y8CIEMV",
        "colab_type": "text"
      },
      "source": [
        "## Display"
      ]
    },
    {
      "cell_type": "markdown",
      "metadata": {
        "id": "WQMWeqDxKEYb",
        "colab_type": "text"
      },
      "source": [
        "### Spring"
      ]
    },
    {
      "cell_type": "code",
      "metadata": {
        "id": "ywsNxCdeQI8w",
        "colab_type": "code",
        "outputId": "bf082638-2490-4bd8-b7a4-e2f47376a078",
        "colab": {
          "base_uri": "https://localhost:8080/",
          "height": 437
        }
      },
      "source": [
        "p <- ggplot(data = filter(combined, season == \"spring\")) +\n",
        "  geom_boxplot(aes(x=year, y=ave_g), na.rm=TRUE)\n",
        "\n",
        "p +\n",
        "  scale_y_continuous(name=\"Combined Spring Veg Biomass (g)\", limits=c(0,60)) +\n",
        "  theme_gray(base_size=23) +\n",
        "  facet_wrap(~ season)"
      ],
      "execution_count": 0,
      "outputs": [
        {
          "output_type": "display_data",
          "data": {
            "image/png": "[encoded data removed]",
            "text/plain": [
              "plot without title"
            ]
          },
          "metadata": {
            "tags": [],
            "image/png": {
              "width": 1020,
              "height": 420
            },
            "text/plain": {
              "width": 1020,
              "height": 420
            }
          }
        }
      ]
    },
    {
      "cell_type": "markdown",
      "metadata": {
        "id": "a21Dn5t4KMY0",
        "colab_type": "text"
      },
      "source": [
        "### Fall"
      ]
    },
    {
      "cell_type": "code",
      "metadata": {
        "id": "-dPX8bwkKKpG",
        "colab_type": "code",
        "outputId": "aa14da2a-0448-40d7-d7dd-57ed2e140957",
        "colab": {
          "base_uri": "https://localhost:8080/",
          "height": 437
        }
      },
      "source": [
        "p <- ggplot(data = filter(combined, season == \"fall\")) +\n",
        "  geom_boxplot(aes(x=year, y=ave_g), na.rm=TRUE)\n",
        "\n",
        "p +\n",
        "  scale_y_continuous(name=\"Combined Fall Veg Biomass (g)\", limits=c(0,60)) +\n",
        "  theme_gray(base_size=23) +\n",
        "  facet_wrap(~ season)"
      ],
      "execution_count": 0,
      "outputs": [
        {
          "output_type": "display_data",
          "data": {
            "image/png": "[encoded data removed]",
            "text/plain": [
              "plot without title"
            ]
          },
          "metadata": {
            "tags": [],
            "image/png": {
              "width": 1020,
              "height": 420
            },
            "text/plain": {
              "width": 1020,
              "height": 420
            }
          }
        }
      ]
    }
  ]
}