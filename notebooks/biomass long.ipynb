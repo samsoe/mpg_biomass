{
 "cells": [
  {
   "cell_type": "code",
   "execution_count": 36,
   "metadata": {},
   "outputs": [],
   "source": [
    "# concatenate biomass for all years in column format ['gridpt', 'year', 'season', 'avg_mass']\n",
    "# averages are in unit grams(g)"
   ]
  },
  {
   "cell_type": "markdown",
   "metadata": {},
   "source": [
    "# Load Tools"
   ]
  },
  {
   "cell_type": "code",
   "execution_count": 532,
   "metadata": {},
   "outputs": [],
   "source": [
    "import pandas as pd\n",
    "import glob\n",
    "import numpy as np\n",
    "from functools import reduce"
   ]
  },
  {
   "cell_type": "markdown",
   "metadata": {},
   "source": [
    "# Collect Data Sheets"
   ]
  },
  {
   "cell_type": "code",
   "execution_count": 12,
   "metadata": {},
   "outputs": [],
   "source": [
    "path = '../src/biomass'\n",
    "all_files = glob.glob(path + \"/*.csv\")"
   ]
  },
  {
   "cell_type": "code",
   "execution_count": 13,
   "metadata": {},
   "outputs": [
    {
     "data": {
      "text/plain": [
       "['../src/biomass/MPG vegetation biomass 2010-2018 - 2017 Spring.csv',\n",
       " '../src/biomass/MPG vegetation biomass 2010-2018 - 2018 Spring.csv',\n",
       " '../src/biomass/MPG vegetation biomass 2010-2018 - 2017 Fall.csv',\n",
       " '../src/biomass/MPG vegetation biomass 2010-2018 - 2016 Fall.csv',\n",
       " '../src/biomass/MPG vegetation biomass 2010-2018 - 2018 Fall.csv',\n",
       " '../src/biomass/MPG vegetation biomass 2010-2018 - 2016 Spring.csv',\n",
       " '../src/biomass/MPG vegetation biomass 2010-2018 - 2010-2015.csv']"
      ]
     },
     "execution_count": 13,
     "metadata": {},
     "output_type": "execute_result"
    }
   ],
   "source": [
    "all_files"
   ]
  },
  {
   "cell_type": "markdown",
   "metadata": {},
   "source": [
    "# Read into DataFrames"
   ]
  },
  {
   "cell_type": "code",
   "execution_count": 15,
   "metadata": {},
   "outputs": [],
   "source": [
    "li = []"
   ]
  },
  {
   "cell_type": "code",
   "execution_count": 16,
   "metadata": {},
   "outputs": [],
   "source": [
    "for filename in all_files:\n",
    "    df = pd.read_csv(filename)\n",
    "    li.append(df)"
   ]
  },
  {
   "cell_type": "markdown",
   "metadata": {},
   "source": [
    "# Process DataFrames"
   ]
  },
  {
   "cell_type": "markdown",
   "metadata": {},
   "source": [
    "### 2017 Spring Sheet"
   ]
  },
  {
   "cell_type": "code",
   "execution_count": 554,
   "metadata": {},
   "outputs": [],
   "source": [
    "# drop untargeted rows\n",
    "df = li[0].drop(columns=['Unnamed: 1', 'Robel', 'Unnamed: 3', 'Unnamed: 4',\n",
    "       'Unnamed: 5', 'Biomass', 'Unnamed: 7', 'Unnamed: 8', 'Woody plants',\n",
    "       'Unnamed: 10', 'Unnamed: 11', 'Scat', 'Unnamed: 13', 'Unnamed: 14'])"
   ]
  },
  {
   "cell_type": "code",
   "execution_count": 555,
   "metadata": {},
   "outputs": [],
   "source": [
    "# rename columns\n",
    "df = df.rename(columns={\n",
    "                    'Unnamed: 0': 'gridpt',\n",
    "                })"
   ]
  },
  {
   "cell_type": "code",
   "execution_count": 556,
   "metadata": {},
   "outputs": [],
   "source": [
    "# remove extra header row\n",
    "df = df.drop([0])"
   ]
  },
  {
   "cell_type": "code",
   "execution_count": 557,
   "metadata": {},
   "outputs": [],
   "source": [
    "# ensure all values are numeric\n",
    "cols = df.columns\n",
    "df[cols] = df[cols].apply(pd.to_numeric, errors='coerce')"
   ]
  },
  {
   "cell_type": "code",
   "execution_count": 558,
   "metadata": {},
   "outputs": [],
   "source": [
    "# add F(forbes) and G(grass) together for total biomass at each point\n",
    "sites = [90, 200, 280]\n",
    "for site in sites:\n",
    "    df[site] = df.loc[:, str(site)+' G'] + df.loc[:, str(site)+' F']"
   ]
  },
  {
   "cell_type": "code",
   "execution_count": 559,
   "metadata": {},
   "outputs": [],
   "source": [
    "# drop G and F columns used for total biomass\n",
    "df = df.drop(columns=['90 G', '90 F', '200 G', '200 F', '280 G', '280 F'])"
   ]
  },
  {
   "cell_type": "code",
   "execution_count": 560,
   "metadata": {},
   "outputs": [],
   "source": [
    "# reshape dataframe to long format\n",
    "df = pd.melt(df, id_vars=['gridpt'])"
   ]
  },
  {
   "cell_type": "code",
   "execution_count": 561,
   "metadata": {},
   "outputs": [],
   "source": [
    "# calculate average for the 3 sites at each gridpt\n",
    "grouped = df.groupby(['gridpt']).mean()"
   ]
  },
  {
   "cell_type": "code",
   "execution_count": 562,
   "metadata": {},
   "outputs": [],
   "source": [
    "grouped = grouped.reset_index()"
   ]
  },
  {
   "cell_type": "code",
   "execution_count": 563,
   "metadata": {},
   "outputs": [],
   "source": [
    "# add this before concatenation to main dataframe\n",
    "grouped['year'] = 2017\n",
    "grouped['season'] = 'spring'"
   ]
  },
  {
   "cell_type": "code",
   "execution_count": 565,
   "metadata": {},
   "outputs": [],
   "source": [
    "df = grouped[['gridpt'\n",
    "             , 'year'\n",
    "             , 'season'\n",
    "             , 'value']]\n",
    "df.rename(columns={'value': 'pt_avg'}, inplace=True)"
   ]
  },
  {
   "cell_type": "code",
   "execution_count": 285,
   "metadata": {},
   "outputs": [],
   "source": [
    "# build new year archive\n",
    "new_li = [df]"
   ]
  },
  {
   "cell_type": "markdown",
   "metadata": {},
   "source": [
    "### 2018 Spring"
   ]
  },
  {
   "cell_type": "code",
   "execution_count": 286,
   "metadata": {},
   "outputs": [],
   "source": [
    "df = li[1].drop(columns=['Unnamed: 1', 'Robel', 'Unnamed: 3', 'Unnamed: 4',\n",
    "       'Unnamed: 5', 'Biomass', 'Unnamed: 7', 'Unnamed: 8', 'Woody plants',\n",
    "       'Unnamed: 10', 'Unnamed: 11', 'Scat', 'Unnamed: 13', 'Unnamed: 14', 'Unnamed: 21',\n",
    "       'Unnamed: 22', 'Unnamed: 23', 'Unnamed: 24', 'Unnamed: 25'])"
   ]
  },
  {
   "cell_type": "code",
   "execution_count": 287,
   "metadata": {},
   "outputs": [],
   "source": [
    "# rename columns\n",
    "df = df.rename(columns={\n",
    "                    'Unnamed: 0': 'gridpt',\n",
    "                })"
   ]
  },
  {
   "cell_type": "code",
   "execution_count": 288,
   "metadata": {},
   "outputs": [],
   "source": [
    "# remove extra header row\n",
    "df = df.drop([0])"
   ]
  },
  {
   "cell_type": "code",
   "execution_count": 290,
   "metadata": {},
   "outputs": [],
   "source": [
    "# ensure all values are numeric\n",
    "cols = df.columns\n",
    "df[cols] = df[cols].apply(pd.to_numeric, errors='coerce')"
   ]
  },
  {
   "cell_type": "code",
   "execution_count": 291,
   "metadata": {},
   "outputs": [],
   "source": [
    "# add F(forbes) and G(grass) together for total biomass at each point\n",
    "sites = [60, 180, 330]\n",
    "for site in sites:\n",
    "    df[site] = df.loc[:, str(site)+'G'] + df.loc[:, str(site)+'F']"
   ]
  },
  {
   "cell_type": "code",
   "execution_count": 293,
   "metadata": {},
   "outputs": [],
   "source": [
    "# drop G and F columns used for total biomass\n",
    "df = df.drop(columns=['60G', '60F', '180G', '180F', '330G', '330F'])"
   ]
  },
  {
   "cell_type": "code",
   "execution_count": 296,
   "metadata": {},
   "outputs": [],
   "source": [
    "# reshape dataframe to long format\n",
    "df = pd.melt(df, id_vars=['gridpt'])"
   ]
  },
  {
   "cell_type": "code",
   "execution_count": 298,
   "metadata": {},
   "outputs": [],
   "source": [
    "grouped = df.groupby(['gridpt']).mean()"
   ]
  },
  {
   "cell_type": "code",
   "execution_count": 300,
   "metadata": {},
   "outputs": [],
   "source": [
    "grouped = grouped.reset_index()"
   ]
  },
  {
   "cell_type": "code",
   "execution_count": 301,
   "metadata": {},
   "outputs": [],
   "source": [
    "# add this before concatenation to main dataframe\n",
    "grouped['year'] = 2018\n",
    "grouped['season'] = 'spring'"
   ]
  },
  {
   "cell_type": "code",
   "execution_count": 302,
   "metadata": {},
   "outputs": [],
   "source": [
    "df = grouped[['gridpt'\n",
    "             , 'year'\n",
    "             , 'season'\n",
    "             , 'value']]\n",
    "df.rename(columns={'value': 'pt_avg'}, inplace=True)"
   ]
  },
  {
   "cell_type": "code",
   "execution_count": 304,
   "metadata": {},
   "outputs": [],
   "source": [
    "new_li.append(df)"
   ]
  },
  {
   "cell_type": "markdown",
   "metadata": {},
   "source": [
    "### 2017 Fall"
   ]
  },
  {
   "cell_type": "code",
   "execution_count": 312,
   "metadata": {},
   "outputs": [],
   "source": [
    "df = li[2].drop(columns=['Unnamed: 1', 'Robel', 'Unnamed: 3', 'Unnamed: 4',\n",
    "       'Unnamed: 5', 'Biomass', 'Unnamed: 7', 'Unnamed: 8', 'Woody plants',\n",
    "       'Unnamed: 10', 'Unnamed: 11', 'Scat', 'Unnamed: 13', 'Unnamed: 14'\n",
    "                   ])"
   ]
  },
  {
   "cell_type": "code",
   "execution_count": 313,
   "metadata": {},
   "outputs": [],
   "source": [
    "# remove extra header row\n",
    "df = df.drop([0])"
   ]
  },
  {
   "cell_type": "code",
   "execution_count": 322,
   "metadata": {},
   "outputs": [],
   "source": [
    "# rename columns\n",
    "df = df.rename(columns={\n",
    "                    'Unnamed: 0': 'gridpt',\n",
    "                })"
   ]
  },
  {
   "cell_type": "code",
   "execution_count": 315,
   "metadata": {},
   "outputs": [],
   "source": [
    "# ensure all values are numeric\n",
    "cols = df.columns\n",
    "df[cols] = df[cols].apply(pd.to_numeric, errors='coerce')"
   ]
  },
  {
   "cell_type": "code",
   "execution_count": 318,
   "metadata": {},
   "outputs": [],
   "source": [
    "# add F(forbes) and G(grass) together for total biomass at each point\n",
    "sites = [0, 170, 270]\n",
    "for site in sites:\n",
    "    df[site] = df.loc[:, str(site)+'G'] + df.loc[:, str(site)+'F']"
   ]
  },
  {
   "cell_type": "code",
   "execution_count": 320,
   "metadata": {},
   "outputs": [],
   "source": [
    "# drop G and F columns used for total biomass\n",
    "df = df.drop(columns=['0G', '0F', '170G', '170F', '270G', '270F'])"
   ]
  },
  {
   "cell_type": "code",
   "execution_count": 324,
   "metadata": {},
   "outputs": [],
   "source": [
    "# reshape dataframe to long format\n",
    "df = pd.melt(df, id_vars=['gridpt'])"
   ]
  },
  {
   "cell_type": "code",
   "execution_count": 326,
   "metadata": {},
   "outputs": [],
   "source": [
    "grouped = df.groupby(['gridpt']).mean()"
   ]
  },
  {
   "cell_type": "code",
   "execution_count": 330,
   "metadata": {},
   "outputs": [],
   "source": [
    "grouped = grouped.reset_index()"
   ]
  },
  {
   "cell_type": "code",
   "execution_count": 331,
   "metadata": {},
   "outputs": [],
   "source": [
    "# add this before concatenation to main dataframe\n",
    "grouped['year'] = 2017\n",
    "grouped['season'] = 'fall'"
   ]
  },
  {
   "cell_type": "code",
   "execution_count": 332,
   "metadata": {},
   "outputs": [],
   "source": [
    "df = grouped[['gridpt'\n",
    "             , 'year'\n",
    "             , 'season'\n",
    "             , 'value']]\n",
    "df.rename(columns={'value': 'pt_avg'}, inplace=True)"
   ]
  },
  {
   "cell_type": "code",
   "execution_count": 334,
   "metadata": {},
   "outputs": [],
   "source": [
    "new_li.append(df)"
   ]
  },
  {
   "cell_type": "markdown",
   "metadata": {},
   "source": [
    "### 2016 Fall"
   ]
  },
  {
   "cell_type": "code",
   "execution_count": 356,
   "metadata": {},
   "outputs": [
    {
     "data": {
      "text/html": [
       "<div>\n",
       "<style scoped>\n",
       "    .dataframe tbody tr th:only-of-type {\n",
       "        vertical-align: middle;\n",
       "    }\n",
       "\n",
       "    .dataframe tbody tr th {\n",
       "        vertical-align: top;\n",
       "    }\n",
       "\n",
       "    .dataframe thead th {\n",
       "        text-align: right;\n",
       "    }\n",
       "</style>\n",
       "<table border=\"1\" class=\"dataframe\">\n",
       "  <thead>\n",
       "    <tr style=\"text-align: right;\">\n",
       "      <th></th>\n",
       "      <th>Date</th>\n",
       "      <th>Plot</th>\n",
       "      <th>Degrees</th>\n",
       "      <th>Type</th>\n",
       "      <th>Weight</th>\n",
       "    </tr>\n",
       "  </thead>\n",
       "  <tbody>\n",
       "    <tr>\n",
       "      <th>0</th>\n",
       "      <td>10/11/2016</td>\n",
       "      <td>2</td>\n",
       "      <td>10</td>\n",
       "      <td>forb</td>\n",
       "      <td>1.14</td>\n",
       "    </tr>\n",
       "    <tr>\n",
       "      <th>1</th>\n",
       "      <td>10/11/2016</td>\n",
       "      <td>2</td>\n",
       "      <td>10</td>\n",
       "      <td>grass</td>\n",
       "      <td>7.75</td>\n",
       "    </tr>\n",
       "  </tbody>\n",
       "</table>\n",
       "</div>"
      ],
      "text/plain": [
       "         Date  Plot  Degrees   Type  Weight\n",
       "0  10/11/2016     2       10   forb    1.14\n",
       "1  10/11/2016     2       10  grass    7.75"
      ]
     },
     "execution_count": 356,
     "metadata": {},
     "output_type": "execute_result"
    }
   ],
   "source": [
    "li[3].head(2)"
   ]
  },
  {
   "cell_type": "code",
   "execution_count": 336,
   "metadata": {},
   "outputs": [],
   "source": [
    "df = li[3].drop(columns=['Date'])"
   ]
  },
  {
   "cell_type": "code",
   "execution_count": 338,
   "metadata": {},
   "outputs": [],
   "source": [
    "# ensure weight values are all numeric\n",
    "df['Weight'] = df['Weight'].apply(pd.to_numeric, errors='coerce')"
   ]
  },
  {
   "cell_type": "code",
   "execution_count": 341,
   "metadata": {},
   "outputs": [],
   "source": [
    "# sum forb and grass types for each plot\n",
    "df = df.groupby(['Plot', 'Degrees']).sum()"
   ]
  },
  {
   "cell_type": "code",
   "execution_count": 345,
   "metadata": {},
   "outputs": [],
   "source": [
    "# average sample sites for each plot\n",
    "df = df.groupby(['Plot']).mean()"
   ]
  },
  {
   "cell_type": "code",
   "execution_count": 347,
   "metadata": {},
   "outputs": [],
   "source": [
    "df['year'] = 2016\n",
    "df['season'] = 'fall'"
   ]
  },
  {
   "cell_type": "code",
   "execution_count": 349,
   "metadata": {},
   "outputs": [],
   "source": [
    "df.reset_index(inplace=True)"
   ]
  },
  {
   "cell_type": "code",
   "execution_count": 353,
   "metadata": {},
   "outputs": [],
   "source": [
    "df = df[['Plot'\n",
    "         , 'year'\n",
    "         , 'season'\n",
    "         , 'Weight']]\n",
    "df.rename(columns={'Plot': 'gridpt', 'Weight': 'pt_avg'}, inplace=True)"
   ]
  },
  {
   "cell_type": "code",
   "execution_count": 357,
   "metadata": {},
   "outputs": [],
   "source": [
    "new_li.append(df)"
   ]
  },
  {
   "cell_type": "markdown",
   "metadata": {},
   "source": [
    "### 2018 Fall"
   ]
  },
  {
   "cell_type": "code",
   "execution_count": 361,
   "metadata": {},
   "outputs": [],
   "source": [
    "df = li[4].drop(columns=['Unnamed: 1', 'Robel', 'Unnamed: 3', 'Unnamed: 4',\n",
    "       'Unnamed: 5', 'Biomass', 'Unnamed: 7', 'Unnamed: 8', 'Woody plants',\n",
    "       'Unnamed: 10', 'Unnamed: 11', 'Scat', 'Unnamed: 13', 'Unnamed: 14', 'Unnamed: 21'])"
   ]
  },
  {
   "cell_type": "code",
   "execution_count": 363,
   "metadata": {},
   "outputs": [],
   "source": [
    "# remove extra header row\n",
    "df = df.drop([0])"
   ]
  },
  {
   "cell_type": "code",
   "execution_count": 364,
   "metadata": {},
   "outputs": [],
   "source": [
    "# rename columns\n",
    "df = df.rename(columns={\n",
    "                    'Unnamed: 0': 'gridpt',\n",
    "                })"
   ]
  },
  {
   "cell_type": "code",
   "execution_count": 369,
   "metadata": {},
   "outputs": [],
   "source": [
    "# ensure all values are numeric\n",
    "cols = df.columns\n",
    "df[cols] = df[cols].apply(pd.to_numeric, errors='coerce')"
   ]
  },
  {
   "cell_type": "code",
   "execution_count": 371,
   "metadata": {},
   "outputs": [],
   "source": [
    "# add F(forbes) and G(grass) together for total biomass at each point\n",
    "sites = [110, 250, 350]\n",
    "for site in sites:\n",
    "    df[site] = df.loc[:, str(site)+'G'] + df.loc[:, str(site)+'F']"
   ]
  },
  {
   "cell_type": "code",
   "execution_count": 373,
   "metadata": {},
   "outputs": [],
   "source": [
    "# drop G and F columns used for total biomass\n",
    "df = df.drop(columns=['110G', '110F', '250G', '250F', '350G', '350F'])"
   ]
  },
  {
   "cell_type": "code",
   "execution_count": 375,
   "metadata": {},
   "outputs": [],
   "source": [
    "# reshape dataframe to long format\n",
    "df = pd.melt(df, id_vars=['gridpt'])"
   ]
  },
  {
   "cell_type": "code",
   "execution_count": 380,
   "metadata": {},
   "outputs": [],
   "source": [
    "df = df.groupby(['gridpt']).mean()"
   ]
  },
  {
   "cell_type": "code",
   "execution_count": 381,
   "metadata": {},
   "outputs": [],
   "source": [
    "df.reset_index(inplace=True)"
   ]
  },
  {
   "cell_type": "code",
   "execution_count": 383,
   "metadata": {},
   "outputs": [],
   "source": [
    "df['year'] = 2018\n",
    "df['season'] = 'fall'"
   ]
  },
  {
   "cell_type": "code",
   "execution_count": 385,
   "metadata": {},
   "outputs": [],
   "source": [
    "df = df[['gridpt', 'year', 'season', 'value']]\n",
    "df.rename(columns={'value': 'pt_avg'}, inplace=True)"
   ]
  },
  {
   "cell_type": "code",
   "execution_count": 387,
   "metadata": {},
   "outputs": [],
   "source": [
    "new_li.append(df)"
   ]
  },
  {
   "cell_type": "markdown",
   "metadata": {},
   "source": [
    "### Spring 2016"
   ]
  },
  {
   "cell_type": "code",
   "execution_count": 390,
   "metadata": {},
   "outputs": [],
   "source": [
    "df = li[5].drop(columns=['Date', 'Notes'])"
   ]
  },
  {
   "cell_type": "code",
   "execution_count": 392,
   "metadata": {},
   "outputs": [],
   "source": [
    "# ensure weight values are all numeric\n",
    "df['Weight'] = df['Weight'].apply(pd.to_numeric, errors='coerce')"
   ]
  },
  {
   "cell_type": "code",
   "execution_count": 395,
   "metadata": {},
   "outputs": [],
   "source": [
    "# sum forb and grass types for each plot\n",
    "df = df.groupby(['Plot', 'Degrees']).sum()"
   ]
  },
  {
   "cell_type": "code",
   "execution_count": 396,
   "metadata": {},
   "outputs": [],
   "source": [
    "# average sample sites for each plot\n",
    "df = df.groupby(['Plot']).mean()"
   ]
  },
  {
   "cell_type": "code",
   "execution_count": 397,
   "metadata": {},
   "outputs": [],
   "source": [
    "df['year'] = 2016\n",
    "df['season'] = 'spring'"
   ]
  },
  {
   "cell_type": "code",
   "execution_count": 399,
   "metadata": {},
   "outputs": [],
   "source": [
    "df.reset_index(inplace=True)"
   ]
  },
  {
   "cell_type": "code",
   "execution_count": 400,
   "metadata": {},
   "outputs": [],
   "source": [
    "df = df[['Plot'\n",
    "         , 'year'\n",
    "         , 'season'\n",
    "         , 'Weight']]\n",
    "df.rename(columns={'Plot': 'gridpt', 'Weight': 'pt_avg'}, inplace=True)"
   ]
  },
  {
   "cell_type": "code",
   "execution_count": 404,
   "metadata": {},
   "outputs": [],
   "source": [
    "# Add to array of years\n",
    "new_li.append(df)"
   ]
  },
  {
   "cell_type": "markdown",
   "metadata": {},
   "source": [
    "### 2010 - 2015"
   ]
  },
  {
   "cell_type": "code",
   "execution_count": 416,
   "metadata": {},
   "outputs": [],
   "source": [
    "# load csv from 2010 - 2015 sheet\n",
    "src = '../src/biomass/MPG vegetation biomass 2010-2018 - 2010-2015.csv'\n",
    "df = pd.read_csv(src)"
   ]
  },
  {
   "cell_type": "code",
   "execution_count": 417,
   "metadata": {},
   "outputs": [],
   "source": [
    "# reshape columns to long format\n",
    "df = pd.melt(df\n",
    "        , id_vars=['GridPt'])"
   ]
  },
  {
   "cell_type": "code",
   "execution_count": 418,
   "metadata": {},
   "outputs": [],
   "source": [
    "# initialize year column with integer\n",
    "df['year'] = 0"
   ]
  },
  {
   "cell_type": "code",
   "execution_count": 419,
   "metadata": {},
   "outputs": [],
   "source": [
    "# populate seasons column\n",
    "df.loc[df.variable.str.contains(\"S\"), 'season'] = \"spring\"\n",
    "df.loc[df.variable.str.contains(\"F\"), 'season'] = \"fall\""
   ]
  },
  {
   "cell_type": "code",
   "execution_count": 420,
   "metadata": {},
   "outputs": [],
   "source": [
    "# populate year column\n",
    "for x in range(10,16):\n",
    "    df.loc[df.variable.str.contains(str(x)), 'year'] = 2000 + x"
   ]
  },
  {
   "cell_type": "code",
   "execution_count": 421,
   "metadata": {},
   "outputs": [],
   "source": [
    "# change column to all float values\n",
    "df['value'] = df['value'].apply(pd.to_numeric, errors='coerce')"
   ]
  },
  {
   "cell_type": "code",
   "execution_count": 422,
   "metadata": {},
   "outputs": [],
   "source": [
    "# order columns\n",
    "df = df[['GridPt', 'year', 'season', 'value']]"
   ]
  },
  {
   "cell_type": "code",
   "execution_count": 423,
   "metadata": {},
   "outputs": [],
   "source": [
    "# average all GridPt samples by year\n",
    "df = df.groupby(['GridPt'\n",
    "            , 'year'\n",
    "            , 'season'\n",
    "            ]).mean()\n",
    "\n",
    "# reshape and sort DataFrame\n",
    "df = df.reset_index().sort_values(['year', 'GridPt'])"
   ]
  },
  {
   "cell_type": "code",
   "execution_count": 424,
   "metadata": {},
   "outputs": [],
   "source": [
    "# format columns to match\n",
    "df = df[['GridPt'\n",
    "         , 'year'\n",
    "         , 'season'\n",
    "         , 'value']]\n",
    "df.rename(columns={'GridPt': 'gridpt', 'value': 'pt_avg'}, inplace=True)"
   ]
  },
  {
   "cell_type": "code",
   "execution_count": 431,
   "metadata": {},
   "outputs": [],
   "source": [
    "# Add to array of years\n",
    "new_li.append(df)"
   ]
  },
  {
   "cell_type": "markdown",
   "metadata": {},
   "source": [
    "### Concatenate DataFrame array\n",
    "* combine sheets from all years"
   ]
  },
  {
   "cell_type": "code",
   "execution_count": 446,
   "metadata": {},
   "outputs": [],
   "source": [
    "# combine all reshaped sheets\n",
    "big_frame = pd.concat(new_li, ignore_index=True)"
   ]
  },
  {
   "cell_type": "code",
   "execution_count": 452,
   "metadata": {},
   "outputs": [],
   "source": [
    "big_frame = big_frame.sort_values(['year', 'gridpt'])"
   ]
  },
  {
   "cell_type": "markdown",
   "metadata": {},
   "source": [
    "# Output"
   ]
  },
  {
   "cell_type": "code",
   "execution_count": 460,
   "metadata": {},
   "outputs": [],
   "source": [
    "output = '../output/biomass/MPG vegetation biomass 2010-2018_xyz.csv'\n",
    "big_frame.to_csv(output, index=False)"
   ]
  },
  {
   "cell_type": "code",
   "execution_count": 622,
   "metadata": {},
   "outputs": [],
   "source": [
    "output = '../output/biomass/MPG vegetation biomass 2010-2018_dropna.csv'\n",
    "big_frame.dropna().to_csv(output, index=False)"
   ]
  },
  {
   "cell_type": "markdown",
   "metadata": {},
   "source": [
    "# Explore all years"
   ]
  },
  {
   "cell_type": "code",
   "execution_count": 570,
   "metadata": {},
   "outputs": [],
   "source": [
    "df = big_frame.copy()"
   ]
  },
  {
   "cell_type": "markdown",
   "metadata": {},
   "source": [
    "### How many years of records?"
   ]
  },
  {
   "cell_type": "code",
   "execution_count": 575,
   "metadata": {},
   "outputs": [
    {
     "name": "stdout",
     "output_type": "stream",
     "text": [
      "9 years\n"
     ]
    }
   ],
   "source": [
    "print(len(df.year.unique()), 'years')"
   ]
  },
  {
   "cell_type": "markdown",
   "metadata": {},
   "source": [
    "### Which years are included?"
   ]
  },
  {
   "cell_type": "code",
   "execution_count": 577,
   "metadata": {},
   "outputs": [
    {
     "data": {
      "text/plain": [
       "[2010, 2011, 2012, 2013, 2014, 2015, 2016, 2017, 2018]"
      ]
     },
     "execution_count": 577,
     "metadata": {},
     "output_type": "execute_result"
    }
   ],
   "source": [
    "df.year.unique().tolist()"
   ]
  },
  {
   "cell_type": "markdown",
   "metadata": {},
   "source": [
    "### How many nonnull records each season and year?"
   ]
  },
  {
   "cell_type": "code",
   "execution_count": 596,
   "metadata": {
    "collapsed": true
   },
   "outputs": [
    {
     "name": "stdout",
     "output_type": "stream",
     "text": [
      "*** 2010 ***\n",
      "spring: 0\n",
      "fall  : 227\n",
      "total : 227\n",
      "\n",
      "\n",
      "*** 2011 ***\n",
      "spring: 69\n",
      "fall  : 123\n",
      "total : 192\n",
      "\n",
      "\n",
      "*** 2012 ***\n",
      "spring: 148\n",
      "fall  : 148\n",
      "total : 296\n",
      "\n",
      "\n",
      "*** 2013 ***\n",
      "spring: 128\n",
      "fall  : 133\n",
      "total : 261\n",
      "\n",
      "\n",
      "*** 2014 ***\n",
      "spring: 32\n",
      "fall  : 63\n",
      "total : 95\n",
      "\n",
      "\n",
      "*** 2015 ***\n",
      "spring: 114\n",
      "fall  : 119\n",
      "total : 233\n",
      "\n",
      "\n",
      "*** 2016 ***\n",
      "spring: 134\n",
      "fall  : 133\n",
      "total : 267\n",
      "\n",
      "\n",
      "*** 2017 ***\n",
      "spring: 135\n",
      "fall  : 113\n",
      "total : 248\n",
      "\n",
      "\n",
      "*** 2018 ***\n",
      "spring: 114\n",
      "fall  : 47\n",
      "total : 161\n",
      "\n",
      "\n"
     ]
    }
   ],
   "source": [
    "for x in range(2010,2019):\n",
    "    print('***', str(x), '***')\n",
    "    print('spring:', len(df[(df.year == x) & (df.season == 'spring')].dropna()))\n",
    "    print('fall  :', len(df[(df.year == x) & (df.season == 'fall')].dropna()))\n",
    "    print('total :', len(df[df.year == x].dropna()))\n",
    "    print('\\n')"
   ]
  },
  {
   "cell_type": "markdown",
   "metadata": {},
   "source": [
    "### Which points have sample data for the full history?\n",
    "* select for Fall as 2010 does not contain spring data"
   ]
  },
  {
   "cell_type": "code",
   "execution_count": 610,
   "metadata": {},
   "outputs": [],
   "source": [
    "# create an array of non-null points for each year\n",
    "unique_pts = []\n",
    "for x in range(2010,2019):\n",
    "    unique_pts.append((df[(df.year == x) & (df.season == 'fall')].dropna()).gridpt.unique().tolist())"
   ]
  },
  {
   "cell_type": "code",
   "execution_count": 611,
   "metadata": {},
   "outputs": [],
   "source": [
    "# find common points between all years\n",
    "shared_pts = reduce(np.intersect1d, unique_pts)"
   ]
  },
  {
   "cell_type": "code",
   "execution_count": 618,
   "metadata": {},
   "outputs": [
    {
     "data": {
      "text/plain": [
       "array([ 71,  86,  87, 107, 108, 121, 189, 199, 225, 240, 241, 243, 245,\n",
       "       304, 328])"
      ]
     },
     "execution_count": 618,
     "metadata": {},
     "output_type": "execute_result"
    }
   ],
   "source": [
    "shared_pts"
   ]
  },
  {
   "cell_type": "code",
   "execution_count": 619,
   "metadata": {},
   "outputs": [
    {
     "data": {
      "text/plain": [
       "15"
      ]
     },
     "execution_count": 619,
     "metadata": {},
     "output_type": "execute_result"
    }
   ],
   "source": [
    "len(shared_pts)"
   ]
  },
  {
   "cell_type": "markdown",
   "metadata": {},
   "source": [
    "# Questions\n",
    "* How many points were sampled each year?\n",
    "* Do we need to find a set of points which were sampled every year?\n",
    "* Does it makes sense to calculate only by season?"
   ]
  }
 ],
 "metadata": {
  "kernelspec": {
   "display_name": "Python 3",
   "language": "python",
   "name": "python3"
  },
  "language_info": {
   "codemirror_mode": {
    "name": "ipython",
    "version": 3
   },
   "file_extension": ".py",
   "mimetype": "text/x-python",
   "name": "python",
   "nbconvert_exporter": "python",
   "pygments_lexer": "ipython3",
   "version": "3.7.3"
  }
 },
 "nbformat": 4,
 "nbformat_minor": 2
}
