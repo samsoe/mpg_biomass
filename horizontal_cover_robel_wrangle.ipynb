{
  "nbformat": 4,
  "nbformat_minor": 0,
  "metadata": {
    "colab": {
      "name": "horizontal_cover-robel wrangle",
      "provenance": [],
      "toc_visible": true,
      "authorship_tag": "ABX9TyMX+St8k+Qjy2OG0Sv1kzIF",
      "include_colab_link": true
    },
    "kernelspec": {
      "name": "python3",
      "display_name": "Python 3"
    }
  },
  "cells": [
    {
      "cell_type": "markdown",
      "metadata": {
        "id": "view-in-github",
        "colab_type": "text"
      },
      "source": [
        "<a href=\"https://colab.research.google.com/github/samsoe/mpg_biomass/blob/master/horizontal_cover_robel_wrangle.ipynb\" target=\"_parent\"><img src=\"https://colab.research.google.com/assets/colab-badge.svg\" alt=\"Open In Colab\"/></a>"
      ]
    },
    {
      "cell_type": "markdown",
      "metadata": {
        "id": "Kx6Zr8K7EozC",
        "colab_type": "text"
      },
      "source": [
        "# Description"
      ]
    },
    {
      "cell_type": "markdown",
      "metadata": {
        "id": "7ejBsm2pErhr",
        "colab_type": "text"
      },
      "source": [
        "## Documentation\n",
        "* [Readme vegetation biomass](https://docs.google.com/document/d/1AF8qh7YRqEJ_5DjX0GrA3Z52RfGp2f22Jc2uLonGa2I/edit#heading=h.4py25fcybipz)"
      ]
    },
    {
      "cell_type": "markdown",
      "metadata": {
        "id": "F0B2jl1LalYK",
        "colab_type": "text"
      },
      "source": [
        "## Schema"
      ]
    },
    {
      "cell_type": "markdown",
      "metadata": {
        "id": "UOvUSv8lbCgQ",
        "colab_type": "text"
      },
      "source": [
        "* grid_point: INT\n",
        "* date: DATETIME\n",
        "* year: DATE (\"yyyy\")\n",
        "* season: STRING (\"spring\", \"fall\")\n",
        "* robel_avg: INT"
      ]
    },
    {
      "cell_type": "markdown",
      "metadata": {
        "id": "8Z9B__7ECBHy",
        "colab_type": "text"
      },
      "source": [
        "# Load Tools"
      ]
    },
    {
      "cell_type": "code",
      "metadata": {
        "id": "5F99d9LUB3m_",
        "colab_type": "code",
        "colab": {}
      },
      "source": [
        "import pandas as pd"
      ],
      "execution_count": 0,
      "outputs": []
    },
    {
      "cell_type": "markdown",
      "metadata": {
        "id": "luzjmixpB8Hv",
        "colab_type": "text"
      },
      "source": [
        "# Data Source"
      ]
    },
    {
      "cell_type": "markdown",
      "metadata": {
        "id": "Ec0h2h6vFR3B",
        "colab_type": "text"
      },
      "source": [
        "## 2019"
      ]
    },
    {
      "cell_type": "code",
      "metadata": {
        "id": "j5-elVXhCHBZ",
        "colab_type": "code",
        "colab": {}
      },
      "source": [
        "# '2019 Biomass Data.xlsx'\n",
        "# url = 'https://drive.google.com/open?id=1dd5F8R-mD6l7H2morac1r9ongf80xpff'\n",
        "src_2019 = 'https://drive.google.com/uc?id=1dd5F8R-mD6l7H2morac1r9ongf80xpff'\n",
        "sheet_2019 = 'All Data - redone'"
      ],
      "execution_count": 0,
      "outputs": []
    },
    {
      "cell_type": "markdown",
      "metadata": {
        "id": "Jt639ytRFThB",
        "colab_type": "text"
      },
      "source": [
        "## 2018"
      ]
    },
    {
      "cell_type": "code",
      "metadata": {
        "id": "1wsMI8-_D8dz",
        "colab_type": "code",
        "colab": {}
      },
      "source": [
        "# 'MPG vegetation biomass 2010-1018.xlsx'\n",
        "# url = 'https://drive.google.com/open?id=1a9Kzg6DF8c4KEkCzBVFaBOjzW5zp2B0L'\n",
        "src_2018 = 'https://drive.google.com/uc?id=1a9Kzg6DF8c4KEkCzBVFaBOjzW5zp2B0L'\n",
        "sheet_2018_spring = '2018 Spring'\n",
        "sheet_2018_fall = '2018 Fall'"
      ],
      "execution_count": 0,
      "outputs": []
    },
    {
      "cell_type": "markdown",
      "metadata": {
        "id": "tpZt_wSaKsKC",
        "colab_type": "text"
      },
      "source": [
        "## 2017"
      ]
    },
    {
      "cell_type": "code",
      "metadata": {
        "id": "u5gWWWs-D8Va",
        "colab_type": "code",
        "colab": {}
      },
      "source": [
        "# 'MPG vegetation biomass 2010-1018.xlsx'\n",
        "# url = 'https://drive.google.com/open?id=1a9Kzg6DF8c4KEkCzBVFaBOjzW5zp2B0L'\n",
        "src_2017 = 'https://drive.google.com/uc?id=1a9Kzg6DF8c4KEkCzBVFaBOjzW5zp2B0L'\n",
        "sheet_2017_spring = '2017 Spring'\n",
        "sheet_2017_fall = '2017 Fall'"
      ],
      "execution_count": 0,
      "outputs": []
    },
    {
      "cell_type": "markdown",
      "metadata": {
        "id": "Kcv9qcPbD9SR",
        "colab_type": "text"
      },
      "source": [
        "# Wrangle Data"
      ]
    },
    {
      "cell_type": "markdown",
      "metadata": {
        "id": "fa8sFzaGER6f",
        "colab_type": "text"
      },
      "source": [
        "## 2019"
      ]
    },
    {
      "cell_type": "code",
      "metadata": {
        "id": "XsFqLvttD-OM",
        "colab_type": "code",
        "colab": {}
      },
      "source": [
        "df_2019 = pd.read_excel(src_2019, sheet_name=sheet_2019)"
      ],
      "execution_count": 0,
      "outputs": []
    },
    {
      "cell_type": "code",
      "metadata": {
        "id": "W2JS-hOBEJBP",
        "colab_type": "code",
        "colab": {
          "base_uri": "https://localhost:8080/",
          "height": 213
        },
        "outputId": "739661c4-7f8f-4815-9bd3-bc10968152be"
      },
      "source": [
        "df_2019.head(2)"
      ],
      "execution_count": 119,
      "outputs": [
        {
          "output_type": "execute_result",
          "data": {
            "text/html": [
              "<div>\n",
              "<style scoped>\n",
              "    .dataframe tbody tr th:only-of-type {\n",
              "        vertical-align: middle;\n",
              "    }\n",
              "\n",
              "    .dataframe tbody tr th {\n",
              "        vertical-align: top;\n",
              "    }\n",
              "\n",
              "    .dataframe thead th {\n",
              "        text-align: right;\n",
              "    }\n",
              "</style>\n",
              "<table border=\"1\" class=\"dataframe\">\n",
              "  <thead>\n",
              "    <tr style=\"text-align: right;\">\n",
              "      <th></th>\n",
              "      <th>Plot</th>\n",
              "      <th>Date</th>\n",
              "      <th>Robel Reading</th>\n",
              "      <th>Unnamed: 3</th>\n",
              "      <th>Unnamed: 4</th>\n",
              "      <th>Unnamed: 5</th>\n",
              "      <th>Biomass Weight (g-spring)(pennyweight for fall)</th>\n",
              "      <th>Unnamed: 7</th>\n",
              "      <th>Unnamed: 8</th>\n",
              "      <th>Deer</th>\n",
              "      <th>Elk</th>\n",
              "      <th>Horse</th>\n",
              "      <th>Biomass</th>\n",
              "      <th>Unnamed: 13</th>\n",
              "      <th>Robel</th>\n",
              "      <th>Unnamed: 15</th>\n",
              "      <th>Unnamed: 16</th>\n",
              "    </tr>\n",
              "  </thead>\n",
              "  <tbody>\n",
              "    <tr>\n",
              "      <th>0</th>\n",
              "      <td>9</td>\n",
              "      <td>2019-09-24</td>\n",
              "      <td>4.0</td>\n",
              "      <td>8.0</td>\n",
              "      <td>6.0</td>\n",
              "      <td>14.0</td>\n",
              "      <td>6.82</td>\n",
              "      <td>5.78</td>\n",
              "      <td>4.98</td>\n",
              "      <td>2.0</td>\n",
              "      <td>3.0</td>\n",
              "      <td>2.0</td>\n",
              "      <td>23.440000</td>\n",
              "      <td>36.451544</td>\n",
              "      <td>8.0</td>\n",
              "      <td>NaN</td>\n",
              "      <td>23.44</td>\n",
              "    </tr>\n",
              "    <tr>\n",
              "      <th>1</th>\n",
              "      <td>10</td>\n",
              "      <td>2019-09-24</td>\n",
              "      <td>6.0</td>\n",
              "      <td>4.0</td>\n",
              "      <td>2.0</td>\n",
              "      <td>4.0</td>\n",
              "      <td>15.95</td>\n",
              "      <td>1.36</td>\n",
              "      <td>17.30</td>\n",
              "      <td>0.0</td>\n",
              "      <td>1.0</td>\n",
              "      <td>2.0</td>\n",
              "      <td>46.146667</td>\n",
              "      <td>71.762681</td>\n",
              "      <td>4.0</td>\n",
              "      <td>NaN</td>\n",
              "      <td>93.76</td>\n",
              "    </tr>\n",
              "  </tbody>\n",
              "</table>\n",
              "</div>"
            ],
            "text/plain": [
              "   Plot       Date  Robel Reading  ...  Robel  Unnamed: 15  Unnamed: 16\n",
              "0     9 2019-09-24            4.0  ...    8.0          NaN        23.44\n",
              "1    10 2019-09-24            6.0  ...    4.0          NaN        93.76\n",
              "\n",
              "[2 rows x 17 columns]"
            ]
          },
          "metadata": {
            "tags": []
          },
          "execution_count": 119
        }
      ]
    },
    {
      "cell_type": "code",
      "metadata": {
        "id": "tYd_fKqRcDYH",
        "colab_type": "code",
        "colab": {
          "base_uri": "https://localhost:8080/",
          "height": 102
        },
        "outputId": "a44da090-6eaf-4dec-a8e4-74b4646d421c"
      },
      "source": [
        "df_2019.columns"
      ],
      "execution_count": 120,
      "outputs": [
        {
          "output_type": "execute_result",
          "data": {
            "text/plain": [
              "Index(['Plot', 'Date', 'Robel Reading', 'Unnamed: 3', 'Unnamed: 4',\n",
              "       'Unnamed: 5', '   Biomass Weight (g-spring)(pennyweight for fall) ',\n",
              "       'Unnamed: 7', 'Unnamed: 8', 'Deer', 'Elk', 'Horse', 'Biomass',\n",
              "       'Unnamed: 13', 'Robel', 'Unnamed: 15', 'Unnamed: 16'],\n",
              "      dtype='object')"
            ]
          },
          "metadata": {
            "tags": []
          },
          "execution_count": 120
        }
      ]
    },
    {
      "cell_type": "code",
      "metadata": {
        "id": "aOJeS6hzEXmQ",
        "colab_type": "code",
        "colab": {}
      },
      "source": [
        "# slice to pertinent columns\n",
        "df_2019 = df_2019.loc[:, ['Plot', 'Date', 'Robel']]"
      ],
      "execution_count": 0,
      "outputs": []
    },
    {
      "cell_type": "code",
      "metadata": {
        "id": "cRKIU9p8cQ5t",
        "colab_type": "code",
        "colab": {
          "base_uri": "https://localhost:8080/",
          "height": 111
        },
        "outputId": "4784cca7-1bfd-4533-f4cc-5a2631d149ef"
      },
      "source": [
        "df_2019.head(2)"
      ],
      "execution_count": 122,
      "outputs": [
        {
          "output_type": "execute_result",
          "data": {
            "text/html": [
              "<div>\n",
              "<style scoped>\n",
              "    .dataframe tbody tr th:only-of-type {\n",
              "        vertical-align: middle;\n",
              "    }\n",
              "\n",
              "    .dataframe tbody tr th {\n",
              "        vertical-align: top;\n",
              "    }\n",
              "\n",
              "    .dataframe thead th {\n",
              "        text-align: right;\n",
              "    }\n",
              "</style>\n",
              "<table border=\"1\" class=\"dataframe\">\n",
              "  <thead>\n",
              "    <tr style=\"text-align: right;\">\n",
              "      <th></th>\n",
              "      <th>Plot</th>\n",
              "      <th>Date</th>\n",
              "      <th>Robel</th>\n",
              "    </tr>\n",
              "  </thead>\n",
              "  <tbody>\n",
              "    <tr>\n",
              "      <th>0</th>\n",
              "      <td>9</td>\n",
              "      <td>2019-09-24</td>\n",
              "      <td>8.0</td>\n",
              "    </tr>\n",
              "    <tr>\n",
              "      <th>1</th>\n",
              "      <td>10</td>\n",
              "      <td>2019-09-24</td>\n",
              "      <td>4.0</td>\n",
              "    </tr>\n",
              "  </tbody>\n",
              "</table>\n",
              "</div>"
            ],
            "text/plain": [
              "   Plot       Date  Robel\n",
              "0     9 2019-09-24    8.0\n",
              "1    10 2019-09-24    4.0"
            ]
          },
          "metadata": {
            "tags": []
          },
          "execution_count": 122
        }
      ]
    },
    {
      "cell_type": "code",
      "metadata": {
        "id": "n1Gtw6MKcZbM",
        "colab_type": "code",
        "colab": {}
      },
      "source": [
        "# standarize column names\n",
        "df_2019.columns = ['grid_point', 'date', 'robel_avg']"
      ],
      "execution_count": 0,
      "outputs": []
    },
    {
      "cell_type": "code",
      "metadata": {
        "id": "53V1pWgmdFrA",
        "colab_type": "code",
        "colab": {
          "base_uri": "https://localhost:8080/",
          "height": 187
        },
        "outputId": "8075fb68-06c8-4951-9b92-9985d7f06e59"
      },
      "source": [
        "df_2019.info()"
      ],
      "execution_count": 124,
      "outputs": [
        {
          "output_type": "stream",
          "text": [
            "<class 'pandas.core.frame.DataFrame'>\n",
            "RangeIndex: 347 entries, 0 to 346\n",
            "Data columns (total 3 columns):\n",
            " #   Column      Non-Null Count  Dtype         \n",
            "---  ------      --------------  -----         \n",
            " 0   grid_point  347 non-null    int64         \n",
            " 1   date        325 non-null    datetime64[ns]\n",
            " 2   robel_avg   319 non-null    float64       \n",
            "dtypes: datetime64[ns](1), float64(1), int64(1)\n",
            "memory usage: 8.3 KB\n"
          ],
          "name": "stdout"
        }
      ]
    },
    {
      "cell_type": "code",
      "metadata": {
        "id": "yi32kMXcdFnJ",
        "colab_type": "code",
        "colab": {
          "base_uri": "https://localhost:8080/",
          "height": 80
        },
        "outputId": "e7d9d8d3-3703-4165-99f6-4deec1687fe3"
      },
      "source": [
        "# date is missing in this row\n",
        "# the row is in the midst of a consistent stream of 9/24/2019\n",
        "df_2019.loc[(df_2019.date.isna()) & (~df_2019.robel_avg.isna())]"
      ],
      "execution_count": 126,
      "outputs": [
        {
          "output_type": "execute_result",
          "data": {
            "text/html": [
              "<div>\n",
              "<style scoped>\n",
              "    .dataframe tbody tr th:only-of-type {\n",
              "        vertical-align: middle;\n",
              "    }\n",
              "\n",
              "    .dataframe tbody tr th {\n",
              "        vertical-align: top;\n",
              "    }\n",
              "\n",
              "    .dataframe thead th {\n",
              "        text-align: right;\n",
              "    }\n",
              "</style>\n",
              "<table border=\"1\" class=\"dataframe\">\n",
              "  <thead>\n",
              "    <tr style=\"text-align: right;\">\n",
              "      <th></th>\n",
              "      <th>grid_point</th>\n",
              "      <th>date</th>\n",
              "      <th>robel_avg</th>\n",
              "    </tr>\n",
              "  </thead>\n",
              "  <tbody>\n",
              "    <tr>\n",
              "      <th>102</th>\n",
              "      <td>197</td>\n",
              "      <td>NaT</td>\n",
              "      <td>14.0</td>\n",
              "    </tr>\n",
              "  </tbody>\n",
              "</table>\n",
              "</div>"
            ],
            "text/plain": [
              "     grid_point date  robel_avg\n",
              "102         197  NaT       14.0"
            ]
          },
          "metadata": {
            "tags": []
          },
          "execution_count": 126
        }
      ]
    },
    {
      "cell_type": "code",
      "metadata": {
        "id": "YaBLBIh6frah",
        "colab_type": "code",
        "colab": {}
      },
      "source": [
        "df_2019.loc[(df_2019.date.isna()) & (~df_2019.robel_avg.isna()), 'date'] = pd.Timestamp('2019-09-24')"
      ],
      "execution_count": 0,
      "outputs": []
    },
    {
      "cell_type": "code",
      "metadata": {
        "id": "GB8BYUu-eZvY",
        "colab_type": "code",
        "colab": {
          "base_uri": "https://localhost:8080/",
          "height": 85
        },
        "outputId": "07c15c27-736c-47af-a3d9-50b9a6866242"
      },
      "source": [
        "df_2019.iloc[102]"
      ],
      "execution_count": 128,
      "outputs": [
        {
          "output_type": "execute_result",
          "data": {
            "text/plain": [
              "grid_point                    197\n",
              "date          2019-09-24 00:00:00\n",
              "robel_avg                      14\n",
              "Name: 102, dtype: object"
            ]
          },
          "metadata": {
            "tags": []
          },
          "execution_count": 128
        }
      ]
    },
    {
      "cell_type": "code",
      "metadata": {
        "id": "Q7BhtyBfdFgc",
        "colab_type": "code",
        "colab": {}
      },
      "source": [
        "# set seasons\n",
        "## spring\n",
        "df_2019.loc[(df_2019.date < '2019-06'), 'season'] = 'spring'\n",
        "\n",
        "## fall\n",
        "df_2019.loc[(df_2019.date > '2019-06'), 'season'] = 'fall'"
      ],
      "execution_count": 0,
      "outputs": []
    },
    {
      "cell_type": "code",
      "metadata": {
        "id": "t1z5iWKagQRS",
        "colab_type": "code",
        "colab": {}
      },
      "source": [
        "# set year\n",
        "df_2019['year'] = 2019"
      ],
      "execution_count": 0,
      "outputs": []
    },
    {
      "cell_type": "code",
      "metadata": {
        "id": "1TWRHAqwgQJ9",
        "colab_type": "code",
        "colab": {}
      },
      "source": [
        "# order columns\n",
        "df_2019 = df_2019[['grid_point', 'date', 'year', 'season', 'robel_avg']]"
      ],
      "execution_count": 0,
      "outputs": []
    },
    {
      "cell_type": "code",
      "metadata": {
        "id": "a9FxzKRgh-jL",
        "colab_type": "code",
        "colab": {
          "base_uri": "https://localhost:8080/",
          "height": 111
        },
        "outputId": "051452ae-9ad4-4f1d-9e77-c7bc1b1fb554"
      },
      "source": [
        "df_2019.head(2)"
      ],
      "execution_count": 133,
      "outputs": [
        {
          "output_type": "execute_result",
          "data": {
            "text/html": [
              "<div>\n",
              "<style scoped>\n",
              "    .dataframe tbody tr th:only-of-type {\n",
              "        vertical-align: middle;\n",
              "    }\n",
              "\n",
              "    .dataframe tbody tr th {\n",
              "        vertical-align: top;\n",
              "    }\n",
              "\n",
              "    .dataframe thead th {\n",
              "        text-align: right;\n",
              "    }\n",
              "</style>\n",
              "<table border=\"1\" class=\"dataframe\">\n",
              "  <thead>\n",
              "    <tr style=\"text-align: right;\">\n",
              "      <th></th>\n",
              "      <th>grid_point</th>\n",
              "      <th>date</th>\n",
              "      <th>year</th>\n",
              "      <th>season</th>\n",
              "      <th>robel_avg</th>\n",
              "    </tr>\n",
              "  </thead>\n",
              "  <tbody>\n",
              "    <tr>\n",
              "      <th>0</th>\n",
              "      <td>9</td>\n",
              "      <td>2019-09-24</td>\n",
              "      <td>2019</td>\n",
              "      <td>fall</td>\n",
              "      <td>8.0</td>\n",
              "    </tr>\n",
              "    <tr>\n",
              "      <th>1</th>\n",
              "      <td>10</td>\n",
              "      <td>2019-09-24</td>\n",
              "      <td>2019</td>\n",
              "      <td>fall</td>\n",
              "      <td>4.0</td>\n",
              "    </tr>\n",
              "  </tbody>\n",
              "</table>\n",
              "</div>"
            ],
            "text/plain": [
              "   grid_point       date  year season  robel_avg\n",
              "0           9 2019-09-24  2019   fall        8.0\n",
              "1          10 2019-09-24  2019   fall        4.0"
            ]
          },
          "metadata": {
            "tags": []
          },
          "execution_count": 133
        }
      ]
    },
    {
      "cell_type": "markdown",
      "metadata": {
        "id": "Eh4du8ypijAQ",
        "colab_type": "text"
      },
      "source": [
        "## 2018"
      ]
    },
    {
      "cell_type": "markdown",
      "metadata": {
        "id": "UnNVd5CdkVpm",
        "colab_type": "text"
      },
      "source": [
        "### Spring"
      ]
    },
    {
      "cell_type": "code",
      "metadata": {
        "id": "yNQTYNDTiyIB",
        "colab_type": "code",
        "colab": {}
      },
      "source": [
        "df_2018_spring = pd.read_excel(src_2018, sheet_name=sheet_2018_spring, skiprows=1)"
      ],
      "execution_count": 0,
      "outputs": []
    },
    {
      "cell_type": "code",
      "metadata": {
        "id": "OY5ipC-3i_Xy",
        "colab_type": "code",
        "colab": {
          "base_uri": "https://localhost:8080/",
          "height": 182
        },
        "outputId": "94a21ef5-4ac4-4bca-f491-035a12a16446"
      },
      "source": [
        "df_2018_spring.head(2)"
      ],
      "execution_count": 144,
      "outputs": [
        {
          "output_type": "execute_result",
          "data": {
            "text/html": [
              "<div>\n",
              "<style scoped>\n",
              "    .dataframe tbody tr th:only-of-type {\n",
              "        vertical-align: middle;\n",
              "    }\n",
              "\n",
              "    .dataframe tbody tr th {\n",
              "        vertical-align: top;\n",
              "    }\n",
              "\n",
              "    .dataframe thead th {\n",
              "        text-align: right;\n",
              "    }\n",
              "</style>\n",
              "<table border=\"1\" class=\"dataframe\">\n",
              "  <thead>\n",
              "    <tr style=\"text-align: right;\">\n",
              "      <th></th>\n",
              "      <th>Plot</th>\n",
              "      <th>Date</th>\n",
              "      <th>N</th>\n",
              "      <th>E</th>\n",
              "      <th>S</th>\n",
              "      <th>W</th>\n",
              "      <th>60</th>\n",
              "      <th>180</th>\n",
              "      <th>330</th>\n",
              "      <th>Plot.1</th>\n",
              "      <th>Species</th>\n",
              "      <th>% cover</th>\n",
              "      <th>Deer</th>\n",
              "      <th>Elk</th>\n",
              "      <th>Horse</th>\n",
              "      <th>grams</th>\n",
              "      <th>grams.1</th>\n",
              "      <th>grams.2</th>\n",
              "      <th>grams.3</th>\n",
              "      <th>grams.4</th>\n",
              "      <th>grams.5</th>\n",
              "      <th>Unnamed: 21</th>\n",
              "      <th>Unnamed: 22</th>\n",
              "      <th>Unnamed: 23</th>\n",
              "      <th>Unnamed: 24</th>\n",
              "      <th>Unnamed: 25</th>\n",
              "    </tr>\n",
              "  </thead>\n",
              "  <tbody>\n",
              "    <tr>\n",
              "      <th>0</th>\n",
              "      <td>3</td>\n",
              "      <td>2018-04-10</td>\n",
              "      <td>2.0</td>\n",
              "      <td>4.0</td>\n",
              "      <td>2.0</td>\n",
              "      <td>2.0</td>\n",
              "      <td>G</td>\n",
              "      <td>G</td>\n",
              "      <td>G</td>\n",
              "      <td>NaN</td>\n",
              "      <td>NaN</td>\n",
              "      <td>NaN</td>\n",
              "      <td>2.0</td>\n",
              "      <td>0.0</td>\n",
              "      <td>1.0</td>\n",
              "      <td>9.33</td>\n",
              "      <td>0.0</td>\n",
              "      <td>20.55</td>\n",
              "      <td>0.0</td>\n",
              "      <td>10.44</td>\n",
              "      <td>0.0</td>\n",
              "      <td>NaN</td>\n",
              "      <td>NaN</td>\n",
              "      <td>NaN</td>\n",
              "      <td>NaN</td>\n",
              "      <td></td>\n",
              "    </tr>\n",
              "    <tr>\n",
              "      <th>1</th>\n",
              "      <td>4</td>\n",
              "      <td>2018-04-10</td>\n",
              "      <td>2.0</td>\n",
              "      <td>2.0</td>\n",
              "      <td>4.0</td>\n",
              "      <td>2.0</td>\n",
              "      <td>G</td>\n",
              "      <td>G</td>\n",
              "      <td>G</td>\n",
              "      <td>NaN</td>\n",
              "      <td>NaN</td>\n",
              "      <td>NaN</td>\n",
              "      <td>2.0</td>\n",
              "      <td>6.0</td>\n",
              "      <td>0.0</td>\n",
              "      <td>2.31</td>\n",
              "      <td>0.0</td>\n",
              "      <td>3.44</td>\n",
              "      <td>0.0</td>\n",
              "      <td>12.21</td>\n",
              "      <td>0.0</td>\n",
              "      <td>NaN</td>\n",
              "      <td>NaN</td>\n",
              "      <td>NaN</td>\n",
              "      <td>NaN</td>\n",
              "      <td>NaN</td>\n",
              "    </tr>\n",
              "  </tbody>\n",
              "</table>\n",
              "</div>"
            ],
            "text/plain": [
              "   Plot       Date    N    E  ...  Unnamed: 22  Unnamed: 23 Unnamed: 24 Unnamed: 25\n",
              "0     3 2018-04-10  2.0  4.0  ...          NaN          NaN         NaN            \n",
              "1     4 2018-04-10  2.0  2.0  ...          NaN          NaN         NaN         NaN\n",
              "\n",
              "[2 rows x 26 columns]"
            ]
          },
          "metadata": {
            "tags": []
          },
          "execution_count": 144
        }
      ]
    },
    {
      "cell_type": "code",
      "metadata": {
        "id": "RFBUmlPVjY1u",
        "colab_type": "code",
        "colab": {}
      },
      "source": [
        "# keep these columns\n",
        "df_2018_spring = df_2018_spring.loc[:, ['Plot', 'Date', 'N', 'E', 'S', 'W']]"
      ],
      "execution_count": 0,
      "outputs": []
    },
    {
      "cell_type": "code",
      "metadata": {
        "id": "5pKJ7m0JkjoJ",
        "colab_type": "code",
        "colab": {
          "base_uri": "https://localhost:8080/",
          "height": 111
        },
        "outputId": "68684361-4a6e-4644-bff4-a5073a0fd878"
      },
      "source": [
        "df_2018_spring.head(2)"
      ],
      "execution_count": 147,
      "outputs": [
        {
          "output_type": "execute_result",
          "data": {
            "text/html": [
              "<div>\n",
              "<style scoped>\n",
              "    .dataframe tbody tr th:only-of-type {\n",
              "        vertical-align: middle;\n",
              "    }\n",
              "\n",
              "    .dataframe tbody tr th {\n",
              "        vertical-align: top;\n",
              "    }\n",
              "\n",
              "    .dataframe thead th {\n",
              "        text-align: right;\n",
              "    }\n",
              "</style>\n",
              "<table border=\"1\" class=\"dataframe\">\n",
              "  <thead>\n",
              "    <tr style=\"text-align: right;\">\n",
              "      <th></th>\n",
              "      <th>Plot</th>\n",
              "      <th>Date</th>\n",
              "      <th>N</th>\n",
              "      <th>E</th>\n",
              "      <th>S</th>\n",
              "      <th>W</th>\n",
              "    </tr>\n",
              "  </thead>\n",
              "  <tbody>\n",
              "    <tr>\n",
              "      <th>0</th>\n",
              "      <td>3</td>\n",
              "      <td>2018-04-10</td>\n",
              "      <td>2.0</td>\n",
              "      <td>4.0</td>\n",
              "      <td>2.0</td>\n",
              "      <td>2.0</td>\n",
              "    </tr>\n",
              "    <tr>\n",
              "      <th>1</th>\n",
              "      <td>4</td>\n",
              "      <td>2018-04-10</td>\n",
              "      <td>2.0</td>\n",
              "      <td>2.0</td>\n",
              "      <td>4.0</td>\n",
              "      <td>2.0</td>\n",
              "    </tr>\n",
              "  </tbody>\n",
              "</table>\n",
              "</div>"
            ],
            "text/plain": [
              "   Plot       Date    N    E    S    W\n",
              "0     3 2018-04-10  2.0  4.0  2.0  2.0\n",
              "1     4 2018-04-10  2.0  2.0  4.0  2.0"
            ]
          },
          "metadata": {
            "tags": []
          },
          "execution_count": 147
        }
      ]
    },
    {
      "cell_type": "markdown",
      "metadata": {
        "id": "bGPWuEvSknCH",
        "colab_type": "text"
      },
      "source": [
        "### Fall"
      ]
    },
    {
      "cell_type": "code",
      "metadata": {
        "id": "DICvbjJ3kLA3",
        "colab_type": "code",
        "colab": {}
      },
      "source": [
        "df_2018_fall = pd.read_excel(src_2018, sheet_name=sheet_2018_fall, skiprows=1)"
      ],
      "execution_count": 0,
      "outputs": []
    },
    {
      "cell_type": "code",
      "metadata": {
        "id": "JSSEeJczkK5Q",
        "colab_type": "code",
        "colab": {}
      },
      "source": [
        "df_2018_fall = df_2018_fall.loc[:, ['Plot', 'Date', 'N', 'E', 'S', 'W']]"
      ],
      "execution_count": 0,
      "outputs": []
    },
    {
      "cell_type": "code",
      "metadata": {
        "id": "HeHq5BdckK2C",
        "colab_type": "code",
        "colab": {
          "base_uri": "https://localhost:8080/",
          "height": 111
        },
        "outputId": "7bab361c-924a-4704-f81e-d04c4cdd236a"
      },
      "source": [
        "df_2018_fall.head(2)"
      ],
      "execution_count": 153,
      "outputs": [
        {
          "output_type": "execute_result",
          "data": {
            "text/html": [
              "<div>\n",
              "<style scoped>\n",
              "    .dataframe tbody tr th:only-of-type {\n",
              "        vertical-align: middle;\n",
              "    }\n",
              "\n",
              "    .dataframe tbody tr th {\n",
              "        vertical-align: top;\n",
              "    }\n",
              "\n",
              "    .dataframe thead th {\n",
              "        text-align: right;\n",
              "    }\n",
              "</style>\n",
              "<table border=\"1\" class=\"dataframe\">\n",
              "  <thead>\n",
              "    <tr style=\"text-align: right;\">\n",
              "      <th></th>\n",
              "      <th>Plot</th>\n",
              "      <th>Date</th>\n",
              "      <th>N</th>\n",
              "      <th>E</th>\n",
              "      <th>S</th>\n",
              "      <th>W</th>\n",
              "    </tr>\n",
              "  </thead>\n",
              "  <tbody>\n",
              "    <tr>\n",
              "      <th>0</th>\n",
              "      <td>70</td>\n",
              "      <td>2018-10-15</td>\n",
              "      <td>14</td>\n",
              "      <td>7</td>\n",
              "      <td>8</td>\n",
              "      <td>3</td>\n",
              "    </tr>\n",
              "    <tr>\n",
              "      <th>1</th>\n",
              "      <td>71</td>\n",
              "      <td>2018-10-15</td>\n",
              "      <td>1</td>\n",
              "      <td>1</td>\n",
              "      <td>1</td>\n",
              "      <td>2</td>\n",
              "    </tr>\n",
              "  </tbody>\n",
              "</table>\n",
              "</div>"
            ],
            "text/plain": [
              "   Plot       Date   N  E  S  W\n",
              "0    70 2018-10-15  14  7  8  3\n",
              "1    71 2018-10-15   1  1  1  2"
            ]
          },
          "metadata": {
            "tags": []
          },
          "execution_count": 153
        }
      ]
    },
    {
      "cell_type": "markdown",
      "metadata": {
        "id": "ZjdMFRhGn4gj",
        "colab_type": "text"
      },
      "source": [
        "### Full Year"
      ]
    },
    {
      "cell_type": "code",
      "metadata": {
        "id": "LiTWVE_CkKqx",
        "colab_type": "code",
        "colab": {}
      },
      "source": [
        "df_2018 = pd.concat([df_2018_spring, df_2018_fall], ignore_index=True, sort=False)"
      ],
      "execution_count": 0,
      "outputs": []
    },
    {
      "cell_type": "code",
      "metadata": {
        "id": "_Dvivn4ToZzc",
        "colab_type": "code",
        "colab": {}
      },
      "source": [
        "# average measurement columns\n",
        "df_2018['robel_avg'] = df_2018.loc[:, ['N', 'E', 'S', 'W']].mean(axis=1)"
      ],
      "execution_count": 0,
      "outputs": []
    },
    {
      "cell_type": "code",
      "metadata": {
        "id": "h59u0MnFo42E",
        "colab_type": "code",
        "colab": {}
      },
      "source": [
        "# slice to keep pertinent columns\n",
        "df_2018 = df_2018.loc[:, ['Plot', 'Date', 'robel_avg']]"
      ],
      "execution_count": 0,
      "outputs": []
    },
    {
      "cell_type": "code",
      "metadata": {
        "id": "rnuJyG1UpP4C",
        "colab_type": "code",
        "colab": {}
      },
      "source": [
        "# standardize column names\n",
        "df_2018.columns = ['grid_point', 'date', 'robel_avg']"
      ],
      "execution_count": 0,
      "outputs": []
    },
    {
      "cell_type": "code",
      "metadata": {
        "id": "r1oG6VXSpT2C",
        "colab_type": "code",
        "colab": {}
      },
      "source": [
        "# set column 'year' value\n",
        "df_2018['year'] = 2018"
      ],
      "execution_count": 0,
      "outputs": []
    },
    {
      "cell_type": "code",
      "metadata": {
        "id": "JQTGsRWnpfZA",
        "colab_type": "code",
        "colab": {}
      },
      "source": [
        "# set column 'season'\n",
        "## spring\n",
        "df_2018.loc[(df_2018.date < '2018-06'), 'season'] = 'spring'\n",
        "\n",
        "## fall\n",
        "df_2018.loc[(df_2018.date > '2018-06'), 'season'] = 'fall'"
      ],
      "execution_count": 0,
      "outputs": []
    },
    {
      "cell_type": "code",
      "metadata": {
        "id": "UAkHnGzTqBYE",
        "colab_type": "code",
        "colab": {}
      },
      "source": [
        "# order columns\n",
        "df_2018 = df_2018[['grid_point', 'date', 'year', 'season', 'robel_avg']]"
      ],
      "execution_count": 0,
      "outputs": []
    },
    {
      "cell_type": "code",
      "metadata": {
        "id": "Mh1mMD2VqUbk",
        "colab_type": "code",
        "colab": {
          "base_uri": "https://localhost:8080/",
          "height": 111
        },
        "outputId": "2e526713-6106-4050-f93d-49eebe964ceb"
      },
      "source": [
        "df_2018.head(2)"
      ],
      "execution_count": 176,
      "outputs": [
        {
          "output_type": "execute_result",
          "data": {
            "text/html": [
              "<div>\n",
              "<style scoped>\n",
              "    .dataframe tbody tr th:only-of-type {\n",
              "        vertical-align: middle;\n",
              "    }\n",
              "\n",
              "    .dataframe tbody tr th {\n",
              "        vertical-align: top;\n",
              "    }\n",
              "\n",
              "    .dataframe thead th {\n",
              "        text-align: right;\n",
              "    }\n",
              "</style>\n",
              "<table border=\"1\" class=\"dataframe\">\n",
              "  <thead>\n",
              "    <tr style=\"text-align: right;\">\n",
              "      <th></th>\n",
              "      <th>grid_point</th>\n",
              "      <th>date</th>\n",
              "      <th>year</th>\n",
              "      <th>season</th>\n",
              "      <th>robel_avg</th>\n",
              "    </tr>\n",
              "  </thead>\n",
              "  <tbody>\n",
              "    <tr>\n",
              "      <th>0</th>\n",
              "      <td>3</td>\n",
              "      <td>2018-04-10</td>\n",
              "      <td>2018</td>\n",
              "      <td>spring</td>\n",
              "      <td>3.0</td>\n",
              "    </tr>\n",
              "    <tr>\n",
              "      <th>1</th>\n",
              "      <td>4</td>\n",
              "      <td>2018-04-10</td>\n",
              "      <td>2018</td>\n",
              "      <td>spring</td>\n",
              "      <td>2.0</td>\n",
              "    </tr>\n",
              "  </tbody>\n",
              "</table>\n",
              "</div>"
            ],
            "text/plain": [
              "   grid_point       date  year  season  robel_avg\n",
              "0           3 2018-04-10  2018  spring        3.0\n",
              "1           4 2018-04-10  2018  spring        2.0"
            ]
          },
          "metadata": {
            "tags": []
          },
          "execution_count": 176
        }
      ]
    },
    {
      "cell_type": "markdown",
      "metadata": {
        "id": "w4PwHTprqan4",
        "colab_type": "text"
      },
      "source": [
        "## 2017"
      ]
    },
    {
      "cell_type": "markdown",
      "metadata": {
        "id": "c99hLiVZqgpc",
        "colab_type": "text"
      },
      "source": [
        "### Spring"
      ]
    },
    {
      "cell_type": "code",
      "metadata": {
        "id": "tGmUoFe3qkdU",
        "colab_type": "code",
        "colab": {}
      },
      "source": [
        "df_2017_spring = pd.read_excel(src_2017, sheet_name = sheet_2017_spring, skiprows=1)"
      ],
      "execution_count": 0,
      "outputs": []
    },
    {
      "cell_type": "code",
      "metadata": {
        "id": "-fTTwX30rBLZ",
        "colab_type": "code",
        "colab": {}
      },
      "source": [
        "df_2017_spring = df_2017_spring.loc[:, ['Plot', 'Date', 'N', 'E', 'S', 'W']]"
      ],
      "execution_count": 0,
      "outputs": []
    },
    {
      "cell_type": "code",
      "metadata": {
        "id": "p6If7RFTrpZB",
        "colab_type": "code",
        "colab": {
          "base_uri": "https://localhost:8080/",
          "height": 111
        },
        "outputId": "9f767aa6-4cea-405d-8e96-e636ba13ff15"
      },
      "source": [
        "df_2017_spring.head(2)"
      ],
      "execution_count": 185,
      "outputs": [
        {
          "output_type": "execute_result",
          "data": {
            "text/html": [
              "<div>\n",
              "<style scoped>\n",
              "    .dataframe tbody tr th:only-of-type {\n",
              "        vertical-align: middle;\n",
              "    }\n",
              "\n",
              "    .dataframe tbody tr th {\n",
              "        vertical-align: top;\n",
              "    }\n",
              "\n",
              "    .dataframe thead th {\n",
              "        text-align: right;\n",
              "    }\n",
              "</style>\n",
              "<table border=\"1\" class=\"dataframe\">\n",
              "  <thead>\n",
              "    <tr style=\"text-align: right;\">\n",
              "      <th></th>\n",
              "      <th>Plot</th>\n",
              "      <th>Date</th>\n",
              "      <th>N</th>\n",
              "      <th>E</th>\n",
              "      <th>S</th>\n",
              "      <th>W</th>\n",
              "    </tr>\n",
              "  </thead>\n",
              "  <tbody>\n",
              "    <tr>\n",
              "      <th>0</th>\n",
              "      <td>2</td>\n",
              "      <td>2017-04-05</td>\n",
              "      <td>2.0</td>\n",
              "      <td>1.0</td>\n",
              "      <td>1.0</td>\n",
              "      <td>1.0</td>\n",
              "    </tr>\n",
              "    <tr>\n",
              "      <th>1</th>\n",
              "      <td>3</td>\n",
              "      <td>2017-04-05</td>\n",
              "      <td>2.0</td>\n",
              "      <td>3.0</td>\n",
              "      <td>2.0</td>\n",
              "      <td>16.0</td>\n",
              "    </tr>\n",
              "  </tbody>\n",
              "</table>\n",
              "</div>"
            ],
            "text/plain": [
              "   Plot       Date    N    E    S     W\n",
              "0     2 2017-04-05  2.0  1.0  1.0   1.0\n",
              "1     3 2017-04-05  2.0  3.0  2.0  16.0"
            ]
          },
          "metadata": {
            "tags": []
          },
          "execution_count": 185
        }
      ]
    },
    {
      "cell_type": "markdown",
      "metadata": {
        "id": "dHt2axvzrNG7",
        "colab_type": "text"
      },
      "source": [
        "### Fall"
      ]
    },
    {
      "cell_type": "code",
      "metadata": {
        "id": "PAwyKU_KqkXW",
        "colab_type": "code",
        "colab": {}
      },
      "source": [
        "df_2017_fall = pd.read_excel(src_2017, sheet_name = sheet_2017_fall, skiprows=1)"
      ],
      "execution_count": 0,
      "outputs": []
    },
    {
      "cell_type": "code",
      "metadata": {
        "id": "4g85PDqMqkP6",
        "colab_type": "code",
        "colab": {}
      },
      "source": [
        "df_2017_fall= df_2017_fall.loc[:, ['Plot', 'Date', 'N', 'E', 'S', 'W']]"
      ],
      "execution_count": 0,
      "outputs": []
    },
    {
      "cell_type": "code",
      "metadata": {
        "id": "1uM2_ceHr6eH",
        "colab_type": "code",
        "colab": {
          "base_uri": "https://localhost:8080/",
          "height": 111
        },
        "outputId": "ac5090e0-8367-4a17-942d-4cc48f1d700d"
      },
      "source": [
        "df_2017_fall.head(2)"
      ],
      "execution_count": 188,
      "outputs": [
        {
          "output_type": "execute_result",
          "data": {
            "text/html": [
              "<div>\n",
              "<style scoped>\n",
              "    .dataframe tbody tr th:only-of-type {\n",
              "        vertical-align: middle;\n",
              "    }\n",
              "\n",
              "    .dataframe tbody tr th {\n",
              "        vertical-align: top;\n",
              "    }\n",
              "\n",
              "    .dataframe thead th {\n",
              "        text-align: right;\n",
              "    }\n",
              "</style>\n",
              "<table border=\"1\" class=\"dataframe\">\n",
              "  <thead>\n",
              "    <tr style=\"text-align: right;\">\n",
              "      <th></th>\n",
              "      <th>Plot</th>\n",
              "      <th>Date</th>\n",
              "      <th>N</th>\n",
              "      <th>E</th>\n",
              "      <th>S</th>\n",
              "      <th>W</th>\n",
              "    </tr>\n",
              "  </thead>\n",
              "  <tbody>\n",
              "    <tr>\n",
              "      <th>0</th>\n",
              "      <td>3</td>\n",
              "      <td>2017-10-09</td>\n",
              "      <td>4.0</td>\n",
              "      <td>2.0</td>\n",
              "      <td>2.0</td>\n",
              "      <td>2.0</td>\n",
              "    </tr>\n",
              "    <tr>\n",
              "      <th>1</th>\n",
              "      <td>4</td>\n",
              "      <td>2017-10-09</td>\n",
              "      <td>6.0</td>\n",
              "      <td>3.0</td>\n",
              "      <td>2.0</td>\n",
              "      <td>4.0</td>\n",
              "    </tr>\n",
              "  </tbody>\n",
              "</table>\n",
              "</div>"
            ],
            "text/plain": [
              "   Plot       Date    N    E    S    W\n",
              "0     3 2017-10-09  4.0  2.0  2.0  2.0\n",
              "1     4 2017-10-09  6.0  3.0  2.0  4.0"
            ]
          },
          "metadata": {
            "tags": []
          },
          "execution_count": 188
        }
      ]
    },
    {
      "cell_type": "markdown",
      "metadata": {
        "id": "aZn4oc_Vqgfz",
        "colab_type": "text"
      },
      "source": [
        "### Full Year"
      ]
    },
    {
      "cell_type": "code",
      "metadata": {
        "id": "X_HQWHu6qlFd",
        "colab_type": "code",
        "colab": {}
      },
      "source": [
        "# combine spring and fall dataframes\n",
        "df_2017 = pd.concat([df_2017_spring, df_2017_fall], ignore_index=True, sort=False)"
      ],
      "execution_count": 0,
      "outputs": []
    },
    {
      "cell_type": "code",
      "metadata": {
        "id": "9xYmvy_Aqk_T",
        "colab_type": "code",
        "colab": {
          "base_uri": "https://localhost:8080/",
          "height": 111
        },
        "outputId": "8a198563-5f88-49bb-8cd9-77332f848e13"
      },
      "source": [
        "df_2017.head(2)"
      ],
      "execution_count": 212,
      "outputs": [
        {
          "output_type": "execute_result",
          "data": {
            "text/html": [
              "<div>\n",
              "<style scoped>\n",
              "    .dataframe tbody tr th:only-of-type {\n",
              "        vertical-align: middle;\n",
              "    }\n",
              "\n",
              "    .dataframe tbody tr th {\n",
              "        vertical-align: top;\n",
              "    }\n",
              "\n",
              "    .dataframe thead th {\n",
              "        text-align: right;\n",
              "    }\n",
              "</style>\n",
              "<table border=\"1\" class=\"dataframe\">\n",
              "  <thead>\n",
              "    <tr style=\"text-align: right;\">\n",
              "      <th></th>\n",
              "      <th>Plot</th>\n",
              "      <th>Date</th>\n",
              "      <th>N</th>\n",
              "      <th>E</th>\n",
              "      <th>S</th>\n",
              "      <th>W</th>\n",
              "    </tr>\n",
              "  </thead>\n",
              "  <tbody>\n",
              "    <tr>\n",
              "      <th>0</th>\n",
              "      <td>2</td>\n",
              "      <td>2017-04-05</td>\n",
              "      <td>2.0</td>\n",
              "      <td>1.0</td>\n",
              "      <td>1.0</td>\n",
              "      <td>1.0</td>\n",
              "    </tr>\n",
              "    <tr>\n",
              "      <th>1</th>\n",
              "      <td>3</td>\n",
              "      <td>2017-04-05</td>\n",
              "      <td>2.0</td>\n",
              "      <td>3.0</td>\n",
              "      <td>2.0</td>\n",
              "      <td>16.0</td>\n",
              "    </tr>\n",
              "  </tbody>\n",
              "</table>\n",
              "</div>"
            ],
            "text/plain": [
              "   Plot       Date    N    E    S     W\n",
              "0     2 2017-04-05  2.0  1.0  1.0   1.0\n",
              "1     3 2017-04-05  2.0  3.0  2.0  16.0"
            ]
          },
          "metadata": {
            "tags": []
          },
          "execution_count": 212
        }
      ]
    },
    {
      "cell_type": "code",
      "metadata": {
        "id": "LfiTSwqhqWKk",
        "colab_type": "code",
        "colab": {}
      },
      "source": [
        "# remove nulls\n",
        "df_2017 = df_2017.loc[~df_2017.Date.isnull()]"
      ],
      "execution_count": 0,
      "outputs": []
    },
    {
      "cell_type": "code",
      "metadata": {
        "id": "28Ylhdn8t544",
        "colab_type": "code",
        "colab": {}
      },
      "source": [
        "# set 'year' column\n",
        "df_2017['year'] = 2017"
      ],
      "execution_count": 0,
      "outputs": []
    },
    {
      "cell_type": "code",
      "metadata": {
        "id": "nTiFfK0Ft_8E",
        "colab_type": "code",
        "colab": {}
      },
      "source": [
        "# set 'season' column\n",
        "\n",
        "## spring\n",
        "df_2017.loc[df_2017.Date < '2017-06', 'season'] = 'spring'\n",
        "## fall\n",
        "df_2017.loc[df_2017.Date > '2017-06', 'season'] = 'fall'"
      ],
      "execution_count": 0,
      "outputs": []
    },
    {
      "cell_type": "code",
      "metadata": {
        "id": "uFhdowSGuchN",
        "colab_type": "code",
        "colab": {}
      },
      "source": [
        "# average measurement columns\n",
        "df_2017['robel_avg'] = df_2017.loc[:, ['N', 'E', 'S', 'W']].mean(axis=1)"
      ],
      "execution_count": 0,
      "outputs": []
    },
    {
      "cell_type": "code",
      "metadata": {
        "id": "de7g8vykv7gD",
        "colab_type": "code",
        "colab": {}
      },
      "source": [
        "df_2017 = df_2017[['Plot', 'Date', 'year', 'season', 'robel_avg']]"
      ],
      "execution_count": 0,
      "outputs": []
    },
    {
      "cell_type": "code",
      "metadata": {
        "id": "iHVknY25u4iN",
        "colab_type": "code",
        "colab": {}
      },
      "source": [
        "# rename columns to standard\n",
        "df_2017.columns = ['grid_point', 'date', 'year', 'season', 'robel_avg']"
      ],
      "execution_count": 0,
      "outputs": []
    },
    {
      "cell_type": "code",
      "metadata": {
        "id": "STVkAOd-vl6S",
        "colab_type": "code",
        "colab": {
          "base_uri": "https://localhost:8080/",
          "height": 111
        },
        "outputId": "bc2b3436-bf7d-4197-fa75-8155846b9bef"
      },
      "source": [
        "df_2017.head(2)"
      ],
      "execution_count": 221,
      "outputs": [
        {
          "output_type": "execute_result",
          "data": {
            "text/html": [
              "<div>\n",
              "<style scoped>\n",
              "    .dataframe tbody tr th:only-of-type {\n",
              "        vertical-align: middle;\n",
              "    }\n",
              "\n",
              "    .dataframe tbody tr th {\n",
              "        vertical-align: top;\n",
              "    }\n",
              "\n",
              "    .dataframe thead th {\n",
              "        text-align: right;\n",
              "    }\n",
              "</style>\n",
              "<table border=\"1\" class=\"dataframe\">\n",
              "  <thead>\n",
              "    <tr style=\"text-align: right;\">\n",
              "      <th></th>\n",
              "      <th>grid_point</th>\n",
              "      <th>date</th>\n",
              "      <th>year</th>\n",
              "      <th>season</th>\n",
              "      <th>robel_avg</th>\n",
              "    </tr>\n",
              "  </thead>\n",
              "  <tbody>\n",
              "    <tr>\n",
              "      <th>0</th>\n",
              "      <td>2</td>\n",
              "      <td>2017-04-05</td>\n",
              "      <td>2017</td>\n",
              "      <td>spring</td>\n",
              "      <td>1.25</td>\n",
              "    </tr>\n",
              "    <tr>\n",
              "      <th>1</th>\n",
              "      <td>3</td>\n",
              "      <td>2017-04-05</td>\n",
              "      <td>2017</td>\n",
              "      <td>spring</td>\n",
              "      <td>5.75</td>\n",
              "    </tr>\n",
              "  </tbody>\n",
              "</table>\n",
              "</div>"
            ],
            "text/plain": [
              "   grid_point       date  year  season  robel_avg\n",
              "0           2 2017-04-05  2017  spring       1.25\n",
              "1           3 2017-04-05  2017  spring       5.75"
            ]
          },
          "metadata": {
            "tags": []
          },
          "execution_count": 221
        }
      ]
    },
    {
      "cell_type": "markdown",
      "metadata": {
        "id": "N2GPzKPvwpCW",
        "colab_type": "text"
      },
      "source": [
        "# Concatenate all Years"
      ]
    },
    {
      "cell_type": "code",
      "metadata": {
        "id": "CRH2Y_xEwlQB",
        "colab_type": "code",
        "colab": {}
      },
      "source": [
        "df_2017_2019 = pd.concat([df_2019, df_2018, df_2017], ignore_index=True, sort=False)"
      ],
      "execution_count": 0,
      "outputs": []
    },
    {
      "cell_type": "code",
      "metadata": {
        "id": "ShANuZJDw66O",
        "colab_type": "code",
        "colab": {
          "base_uri": "https://localhost:8080/",
          "height": 221
        },
        "outputId": "3e98f574-9dba-44d7-8046-1eb11df5d25b"
      },
      "source": [
        "df_2017_2019.info()"
      ],
      "execution_count": 224,
      "outputs": [
        {
          "output_type": "stream",
          "text": [
            "<class 'pandas.core.frame.DataFrame'>\n",
            "RangeIndex: 755 entries, 0 to 754\n",
            "Data columns (total 5 columns):\n",
            " #   Column      Non-Null Count  Dtype         \n",
            "---  ------      --------------  -----         \n",
            " 0   grid_point  755 non-null    int64         \n",
            " 1   date        733 non-null    datetime64[ns]\n",
            " 2   year        755 non-null    int64         \n",
            " 3   season      733 non-null    object        \n",
            " 4   robel_avg   725 non-null    float64       \n",
            "dtypes: datetime64[ns](1), float64(1), int64(2), object(1)\n",
            "memory usage: 29.6+ KB\n"
          ],
          "name": "stdout"
        }
      ]
    },
    {
      "cell_type": "code",
      "metadata": {
        "id": "PyP34qMcw_br",
        "colab_type": "code",
        "colab": {}
      },
      "source": [
        "# remove rows with null 'date'\n",
        "df_2017_2019 = df_2017_2019.loc[~df_2017_2019['date'].isnull()]"
      ],
      "execution_count": 0,
      "outputs": []
    },
    {
      "cell_type": "code",
      "metadata": {
        "id": "YZVjVS9ixQcA",
        "colab_type": "code",
        "colab": {}
      },
      "source": [
        "# remove rows with null'robel_avg'\n",
        "df_2017_2019 = df_2017_2019.loc[~df_2017_2019['robel_avg'].isnull()]"
      ],
      "execution_count": 0,
      "outputs": []
    },
    {
      "cell_type": "code",
      "metadata": {
        "id": "kT9h-M7Uxf3s",
        "colab_type": "code",
        "colab": {
          "base_uri": "https://localhost:8080/",
          "height": 221
        },
        "outputId": "d47bc696-ae66-4585-e25e-01cb4d0a3163"
      },
      "source": [
        "df_2017_2019.info()"
      ],
      "execution_count": 231,
      "outputs": [
        {
          "output_type": "stream",
          "text": [
            "<class 'pandas.core.frame.DataFrame'>\n",
            "Int64Index: 725 entries, 0 to 754\n",
            "Data columns (total 5 columns):\n",
            " #   Column      Non-Null Count  Dtype         \n",
            "---  ------      --------------  -----         \n",
            " 0   grid_point  725 non-null    int64         \n",
            " 1   date        725 non-null    datetime64[ns]\n",
            " 2   year        725 non-null    int64         \n",
            " 3   season      725 non-null    object        \n",
            " 4   robel_avg   725 non-null    float64       \n",
            "dtypes: datetime64[ns](1), float64(1), int64(2), object(1)\n",
            "memory usage: 34.0+ KB\n"
          ],
          "name": "stdout"
        }
      ]
    },
    {
      "cell_type": "markdown",
      "metadata": {
        "id": "kMWH-9tCwsXW",
        "colab_type": "text"
      },
      "source": [
        "# Push to BigQuery"
      ]
    },
    {
      "cell_type": "code",
      "metadata": {
        "id": "pmJJaPSLwtpb",
        "colab_type": "code",
        "colab": {
          "base_uri": "https://localhost:8080/",
          "height": 88
        },
        "outputId": "0110cf4d-3030-4798-87fb-eb827197a09d"
      },
      "source": [
        "df_2017_2019.to_gbq('vegetation_biomass.horizontal_cover_robel', 'mpg-data-warehouse', if_exists='replace')"
      ],
      "execution_count": 232,
      "outputs": [
        {
          "output_type": "stream",
          "text": [
            "Please visit this URL to authorize this application: https://accounts.google.com/o/oauth2/auth?response_type=code&client_id=725825577420-unm2gnkiprugilg743tkbig250f4sfsj.apps.googleusercontent.com&redirect_uri=urn%3Aietf%3Awg%3Aoauth%3A2.0%3Aoob&scope=https%3A%2F%2Fwww.googleapis.com%2Fauth%2Fbigquery&state=dtPcRQaLWGjDAKk1S185zxBPSNlJOy&prompt=consent&access_type=offline\n",
            "Enter the authorization code: 4/ywEftgQh1id3boduHg0dY9liKbos39TBrcbTENpAgiRoCxFtZv2Y_p8\n"
          ],
          "name": "stdout"
        },
        {
          "output_type": "stream",
          "text": [
            "1it [00:04,  4.21s/it]\n"
          ],
          "name": "stderr"
        }
      ]
    }
  ]
}