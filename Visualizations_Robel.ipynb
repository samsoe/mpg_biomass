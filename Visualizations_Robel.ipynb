{
  "nbformat": 4,
  "nbformat_minor": 0,
  "metadata": {
    "colab": {
      "name": "Visualizations - Robel",
      "provenance": [],
      "toc_visible": true,
      "authorship_tag": "ABX9TyNpB0TUdCN9EkHRCoLHhALl",
      "include_colab_link": true
    },
    "kernelspec": {
      "name": "ir",
      "display_name": "R"
    },
    "accelerator": "GPU"
  },
  "cells": [
    {
      "cell_type": "markdown",
      "metadata": {
        "id": "view-in-github",
        "colab_type": "text"
      },
      "source": [
        "<a href=\"https://colab.research.google.com/github/samsoe/mpg_biomass/blob/master/Visualizations_Robel.ipynb\" target=\"_parent\"><img src=\"https://colab.research.google.com/assets/colab-badge.svg\" alt=\"Open In Colab\"/></a>"
      ]
    },
    {
      "cell_type": "markdown",
      "metadata": {
        "id": "eNsz2cqfWBuB",
        "colab_type": "text"
      },
      "source": [
        "bigrquery [Documentation](https://www.rdocumentation.org/packages/bigrquery/versions/1.2.0)\n",
        "* billing [documentation](https://github.com/r-dbi/bigrquery/issues/366)"
      ]
    },
    {
      "cell_type": "markdown",
      "metadata": {
        "id": "Cq2Ghrnq4OaF",
        "colab_type": "text"
      },
      "source": [
        "This is an R Notebook.  An API key needs to be generated externally and uploaded for reasons."
      ]
    },
    {
      "cell_type": "markdown",
      "metadata": {
        "id": "QnsZ7WkjFadJ",
        "colab_type": "text"
      },
      "source": [
        "# Gather Tools"
      ]
    },
    {
      "cell_type": "code",
      "metadata": {
        "id": "_zlPNKS1Pprr",
        "colab_type": "code",
        "outputId": "137fd481-c46e-4ad9-da84-bbc2b4437b66",
        "colab": {
          "base_uri": "https://localhost:8080/",
          "height": 221
        }
      },
      "source": [
        "# bigquery api access\n",
        "install.packages(\"bigrquery\")\n",
        "install.packages(\"httpuv\")\n",
        "install.packages(\"googleAuthR\")"
      ],
      "execution_count": 0,
      "outputs": [
        {
          "output_type": "stream",
          "text": [
            "Installing package into ‘/usr/local/lib/R/site-library’\n",
            "(as ‘lib’ is unspecified)\n",
            "\n",
            "also installing the dependencies ‘bit’, ‘bit64’, ‘gargle’, ‘rapidjsonr’\n",
            "\n",
            "\n",
            "Installing package into ‘/usr/local/lib/R/site-library’\n",
            "(as ‘lib’ is unspecified)\n",
            "\n",
            "Installing package into ‘/usr/local/lib/R/site-library’\n",
            "(as ‘lib’ is unspecified)\n",
            "\n"
          ],
          "name": "stderr"
        }
      ]
    },
    {
      "cell_type": "code",
      "metadata": {
        "id": "5j51mLbKS_UX",
        "colab_type": "code",
        "outputId": "737706aa-7f02-483d-f5b5-2d15540fa902",
        "colab": {
          "base_uri": "https://localhost:8080/",
          "height": 255
        }
      },
      "source": [
        "library(bigrquery)\n",
        "library(httpuv)\n",
        "library(tidyr)\n",
        "library(ggplot2)\n",
        "library(dplyr)"
      ],
      "execution_count": 0,
      "outputs": [
        {
          "output_type": "stream",
          "text": [
            "\n",
            "Attaching package: ‘dplyr’\n",
            "\n",
            "\n",
            "The following objects are masked from ‘package:stats’:\n",
            "\n",
            "    filter, lag\n",
            "\n",
            "\n",
            "The following objects are masked from ‘package:base’:\n",
            "\n",
            "    intersect, setdiff, setequal, union\n",
            "\n",
            "\n"
          ],
          "name": "stderr"
        }
      ]
    },
    {
      "cell_type": "markdown",
      "metadata": {
        "id": "hvU4eSoeFeq1",
        "colab_type": "text"
      },
      "source": [
        "# Database Connection"
      ]
    },
    {
      "cell_type": "code",
      "metadata": {
        "id": "0xg2GBARfMEJ",
        "colab_type": "code",
        "colab": {}
      },
      "source": [
        "# BigQuery API Key\n",
        "bq_auth(path = \"/content/mpg-data-warehouse-34434e1a9914.json\")"
      ],
      "execution_count": 0,
      "outputs": []
    },
    {
      "cell_type": "code",
      "metadata": {
        "id": "sLzd7hNSsodn",
        "colab_type": "code",
        "colab": {}
      },
      "source": [
        "Sys.setenv(BIGQUERY_TEST_PROJECT = \"mpg-data-warehouse\")"
      ],
      "execution_count": 0,
      "outputs": []
    },
    {
      "cell_type": "code",
      "metadata": {
        "id": "M2tWFYLyrxjw",
        "colab_type": "code",
        "colab": {}
      },
      "source": [
        "billing <- bq_test_project()"
      ],
      "execution_count": 0,
      "outputs": []
    },
    {
      "cell_type": "code",
      "metadata": {
        "id": "7bHxCqj1TI00",
        "colab_type": "code",
        "colab": {}
      },
      "source": [
        "con <- dbConnect(\n",
        "  bigrquery::bigquery(),\n",
        "  project = \"mpg-data-warehouse\",\n",
        "  dataset = \"horizontal_cover_robel\",\n",
        "  billing = billing\n",
        ")"
      ],
      "execution_count": 0,
      "outputs": []
    },
    {
      "cell_type": "code",
      "metadata": {
        "id": "Ru_HOMBEqUUf",
        "colab_type": "code",
        "outputId": "4f3a9407-343c-413b-ef68-9566746c086c",
        "colab": {
          "base_uri": "https://localhost:8080/",
          "height": 68
        }
      },
      "source": [
        "con"
      ],
      "execution_count": 0,
      "outputs": [
        {
          "output_type": "display_data",
          "data": {
            "text/plain": [
              "<BigQueryConnection>\n",
              "  Dataset: mpg-data-warehouse.horizontal_cover_robel\n",
              "  Billing: mpg-data-warehouse"
            ]
          },
          "metadata": {
            "tags": []
          }
        }
      ]
    },
    {
      "cell_type": "code",
      "metadata": {
        "id": "kwc9ZaYLr9tm",
        "colab_type": "code",
        "outputId": "72dd3b9f-56aa-4869-de08-43245e4f2ecb",
        "colab": {
          "base_uri": "https://localhost:8080/",
          "height": 266
        }
      },
      "source": [
        "dbListTables(con)"
      ],
      "execution_count": 0,
      "outputs": [
        {
          "output_type": "error",
          "ename": "ERROR",
          "evalue": "ignored",
          "traceback": [
            "Error: Not found: Dataset mpg-data-warehouse:horizontal_cover_robel [notFound]\nTraceback:\n",
            "1. dbListTables(con)",
            "2. dbListTables(con)",
            "3. bq_dataset_tables(ds, ...)",
            "4. bq_get_paginated(url, query = list(fields = \"tables(tableReference)\"), \n .     page_size = page_size, max_pages = max_pages, warn = warn)",
            "5. bq_get(url, ..., query = query, token = token)",
            "6. process_request(req, raw = raw)",
            "7. bq_check_response(status, type, content)",
            "8. signal_reason(json$error$errors[[1L]]$reason, json$error$message)"
          ]
        }
      ]
    },
    {
      "cell_type": "markdown",
      "metadata": {
        "id": "O1yrTU6EO91c",
        "colab_type": "text"
      },
      "source": [
        "# Combined"
      ]
    },
    {
      "cell_type": "markdown",
      "metadata": {
        "id": "G_wXhcVQH9dm",
        "colab_type": "text"
      },
      "source": [
        "## Query Database"
      ]
    },
    {
      "cell_type": "code",
      "metadata": {
        "id": "RrSHNP1RNin2",
        "colab_type": "code",
        "colab": {}
      },
      "source": [
        "sql <- \"SELECT \n",
        "           *\n",
        "        FROM \n",
        "          `mpg-data-warehouse.vegetation_biomass.horizontal_cover_robel`\""
      ],
      "execution_count": 0,
      "outputs": []
    },
    {
      "cell_type": "code",
      "metadata": {
        "id": "VCS3vdw-NrPs",
        "colab_type": "code",
        "colab": {}
      },
      "source": [
        "tb <- bq_project_query(billing, sql)"
      ],
      "execution_count": 0,
      "outputs": []
    },
    {
      "cell_type": "code",
      "metadata": {
        "id": "ICDrRddYNySf",
        "colab_type": "code",
        "colab": {}
      },
      "source": [
        "robel = bq_table_download(tb)"
      ],
      "execution_count": 0,
      "outputs": []
    },
    {
      "cell_type": "code",
      "metadata": {
        "id": "DuvhjBzjO3eS",
        "colab_type": "code",
        "outputId": "166b721a-b3c1-477b-d98c-209d32532cf8",
        "colab": {
          "base_uri": "https://localhost:8080/",
          "height": 34
        }
      },
      "source": [
        "class(robel)"
      ],
      "execution_count": 0,
      "outputs": [
        {
          "output_type": "display_data",
          "data": {
            "text/plain": [
              "[1] \"tbl_df\"     \"tbl\"        \"data.frame\""
            ],
            "text/latex": "\\begin{enumerate*}\n\\item 'tbl\\_df'\n\\item 'tbl'\n\\item 'data.frame'\n\\end{enumerate*}\n",
            "text/markdown": "1. 'tbl_df'\n2. 'tbl'\n3. 'data.frame'\n\n\n",
            "text/html": [
              "<style>\n",
              ".list-inline {list-style: none; margin:0; padding: 0}\n",
              ".list-inline>li {display: inline-block}\n",
              ".list-inline>li:not(:last-child)::after {content: \"\\00b7\"; padding: 0 .5ex}\n",
              "</style>\n",
              "<ol class=list-inline><li>'tbl_df'</li><li>'tbl'</li><li>'data.frame'</li></ol>\n"
            ]
          },
          "metadata": {
            "tags": []
          }
        }
      ]
    },
    {
      "cell_type": "markdown",
      "metadata": {
        "id": "q43CktoJIBJL",
        "colab_type": "text"
      },
      "source": [
        "## Format"
      ]
    },
    {
      "cell_type": "code",
      "metadata": {
        "id": "x__SxQLHP0x3",
        "colab_type": "code",
        "colab": {}
      },
      "source": [
        "# convert to data frame\n",
        "robel <- as.data.frame(robel)"
      ],
      "execution_count": 0,
      "outputs": []
    },
    {
      "cell_type": "code",
      "metadata": {
        "id": "NlXNhJ33QEe5",
        "colab_type": "code",
        "colab": {}
      },
      "source": [
        "robel$year <- as.factor(robel$year)"
      ],
      "execution_count": 0,
      "outputs": []
    },
    {
      "cell_type": "code",
      "metadata": {
        "id": "NEw-kk1fQXgj",
        "colab_type": "code",
        "colab": {}
      },
      "source": [
        "robel$season <- as.factor(robel$season)"
      ],
      "execution_count": 0,
      "outputs": []
    },
    {
      "cell_type": "code",
      "metadata": {
        "id": "8cpzj8IgQQaY",
        "colab_type": "code",
        "outputId": "a1205f8e-90e3-4714-d5a9-b0e0253367ab",
        "colab": {
          "base_uri": "https://localhost:8080/",
          "height": 204
        }
      },
      "source": [
        "head(robel)"
      ],
      "execution_count": 0,
      "outputs": [
        {
          "output_type": "display_data",
          "data": {
            "text/plain": [
              "  grid_point date       year season robel_avg\n",
              "1 121        2019-04-30 2019 spring  2.25    \n",
              "2 149        2019-04-30 2019 spring  2.75    \n",
              "3 122        2019-04-30 2019 spring  6.00    \n",
              "4 148        2019-04-30 2019 spring 11.00    \n",
              "5  26        2017-10-09 2017 fall    9.25    \n",
              "6 121        2017-10-09 2017 fall   12.25    "
            ],
            "text/latex": "A data.frame: 6 × 5\n\\begin{tabular}{r|lllll}\n  & grid\\_point & date & year & season & robel\\_avg\\\\\n  & <int> & <dttm> & <fct> & <fct> & <dbl>\\\\\n\\hline\n\t1 & 121 & 2019-04-30 & 2019 & spring &  2.25\\\\\n\t2 & 149 & 2019-04-30 & 2019 & spring &  2.75\\\\\n\t3 & 122 & 2019-04-30 & 2019 & spring &  6.00\\\\\n\t4 & 148 & 2019-04-30 & 2019 & spring & 11.00\\\\\n\t5 &  26 & 2017-10-09 & 2017 & fall   &  9.25\\\\\n\t6 & 121 & 2017-10-09 & 2017 & fall   & 12.25\\\\\n\\end{tabular}\n",
            "text/markdown": "\nA data.frame: 6 × 5\n\n| <!--/--> | grid_point &lt;int&gt; | date &lt;dttm&gt; | year &lt;fct&gt; | season &lt;fct&gt; | robel_avg &lt;dbl&gt; |\n|---|---|---|---|---|---|\n| 1 | 121 | 2019-04-30 | 2019 | spring |  2.25 |\n| 2 | 149 | 2019-04-30 | 2019 | spring |  2.75 |\n| 3 | 122 | 2019-04-30 | 2019 | spring |  6.00 |\n| 4 | 148 | 2019-04-30 | 2019 | spring | 11.00 |\n| 5 |  26 | 2017-10-09 | 2017 | fall   |  9.25 |\n| 6 | 121 | 2017-10-09 | 2017 | fall   | 12.25 |\n\n",
            "text/html": [
              "<table>\n",
              "<caption>A data.frame: 6 × 5</caption>\n",
              "<thead>\n",
              "\t<tr><th></th><th scope=col>grid_point</th><th scope=col>date</th><th scope=col>year</th><th scope=col>season</th><th scope=col>robel_avg</th></tr>\n",
              "\t<tr><th></th><th scope=col>&lt;int&gt;</th><th scope=col>&lt;dttm&gt;</th><th scope=col>&lt;fct&gt;</th><th scope=col>&lt;fct&gt;</th><th scope=col>&lt;dbl&gt;</th></tr>\n",
              "</thead>\n",
              "<tbody>\n",
              "\t<tr><th scope=row>1</th><td>121</td><td>2019-04-30</td><td>2019</td><td>spring</td><td> 2.25</td></tr>\n",
              "\t<tr><th scope=row>2</th><td>149</td><td>2019-04-30</td><td>2019</td><td>spring</td><td> 2.75</td></tr>\n",
              "\t<tr><th scope=row>3</th><td>122</td><td>2019-04-30</td><td>2019</td><td>spring</td><td> 6.00</td></tr>\n",
              "\t<tr><th scope=row>4</th><td>148</td><td>2019-04-30</td><td>2019</td><td>spring</td><td>11.00</td></tr>\n",
              "\t<tr><th scope=row>5</th><td> 26</td><td>2017-10-09</td><td>2017</td><td>fall  </td><td> 9.25</td></tr>\n",
              "\t<tr><th scope=row>6</th><td>121</td><td>2017-10-09</td><td>2017</td><td>fall  </td><td>12.25</td></tr>\n",
              "</tbody>\n",
              "</table>\n"
            ]
          },
          "metadata": {
            "tags": []
          }
        }
      ]
    },
    {
      "cell_type": "markdown",
      "metadata": {
        "id": "F2k61Y8CIEMV",
        "colab_type": "text"
      },
      "source": [
        "## Display"
      ]
    },
    {
      "cell_type": "markdown",
      "metadata": {
        "id": "WQMWeqDxKEYb",
        "colab_type": "text"
      },
      "source": [
        "### Spring"
      ]
    },
    {
      "cell_type": "code",
      "metadata": {
        "id": "ywsNxCdeQI8w",
        "colab_type": "code",
        "outputId": "e5cb76ee-5abf-4207-d6f6-fd772a88e53c",
        "colab": {
          "base_uri": "https://localhost:8080/",
          "height": 437
        }
      },
      "source": [
        "p <- ggplot(data = filter(robel, season == \"spring\")) +\n",
        "  geom_boxplot(aes(x=year, y=robel_avg), na.rm=TRUE)\n",
        "\n",
        "p +\n",
        "  scale_y_continuous(name=\"Spring Robel\", limits=c(0,25)) +\n",
        "  theme_gray(base_size=23) +\n",
        "  facet_wrap(~ season)"
      ],
      "execution_count": 0,
      "outputs": [
        {
          "output_type": "display_data",
          "data": {
            "image/png": "[encoded data removed]",
            "text/plain": [
              "plot without title"
            ]
          },
          "metadata": {
            "tags": [],
            "image/png": {
              "width": 420,
              "height": 420
            },
            "text/plain": {
              "width": 420,
              "height": 420
            }
          }
        }
      ]
    },
    {
      "cell_type": "markdown",
      "metadata": {
        "id": "a21Dn5t4KMY0",
        "colab_type": "text"
      },
      "source": [
        "### Fall"
      ]
    },
    {
      "cell_type": "code",
      "metadata": {
        "id": "-dPX8bwkKKpG",
        "colab_type": "code",
        "outputId": "a5849195-3efa-46d8-e618-be7297b8902c",
        "colab": {
          "base_uri": "https://localhost:8080/",
          "height": 437
        }
      },
      "source": [
        "p <- ggplot(data = filter(robel, season == \"fall\")) +\n",
        "  geom_boxplot(aes(x=year, y=robel_avg), na.rm=TRUE)\n",
        "\n",
        "p +\n",
        "  scale_y_continuous(name=\"Fall Robel\", limits=c(0,30)) +\n",
        "  theme_gray(base_size=23) +\n",
        "  facet_wrap(~ season)"
      ],
      "execution_count": 0,
      "outputs": [
        {
          "output_type": "display_data",
          "data": {
            "image/png": "[encoded data removed]",
            "text/plain": [
              "plot without title"
            ]
          },
          "metadata": {
            "tags": [],
            "image/png": {
              "width": 420,
              "height": 420
            },
            "text/plain": {
              "width": 420,
              "height": 420
            }
          }
        }
      ]
    },
    {
      "cell_type": "code",
      "metadata": {
        "id": "G_-KZ1cE1dty",
        "colab_type": "code",
        "colab": {}
      },
      "source": [
        ""
      ],
      "execution_count": 0,
      "outputs": []
    }
  ]
}