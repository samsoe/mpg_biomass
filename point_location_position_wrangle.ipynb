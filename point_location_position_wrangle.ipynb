{
  "nbformat": 4,
  "nbformat_minor": 0,
  "metadata": {
    "colab": {
      "name": "point_location_position-wrangle.ipynb",
      "provenance": [],
      "collapsed_sections": [],
      "toc_visible": true,
      "include_colab_link": true
    },
    "language_info": {
      "codemirror_mode": "r",
      "file_extension": ".r",
      "mimetype": "text/x-r-source",
      "name": "R",
      "pygments_lexer": "r",
      "version": "3.3.1"
    },
    "kernelspec": {
      "display_name": "R",
      "language": "R",
      "name": "ir"
    },
    "accelerator": "GPU"
  },
  "cells": [
    {
      "cell_type": "markdown",
      "metadata": {
        "id": "view-in-github",
        "colab_type": "text"
      },
      "source": [
        "<a href=\"https://colab.research.google.com/github/samsoe/mpg_biomass/blob/master/point_location_position_wrangle.ipynb\" target=\"_parent\"><img src=\"https://colab.research.google.com/assets/colab-badge.svg\" alt=\"Open In Colab\"/></a>"
      ]
    },
    {
      "cell_type": "markdown",
      "metadata": {
        "id": "g3KDzpLH2RkH",
        "colab_type": "text"
      },
      "source": [
        "Documentation:  [Readme grid point metadata](https://docs.google.com/document/d/1dQf3WIp2JaOTFKFo8eOj-J6tFByUA22cu_VyTbeGPa8/edit?usp=sharing)"
      ]
    },
    {
      "cell_type": "markdown",
      "metadata": {
        "id": "BhOI1uU2Koum",
        "colab_type": "text"
      },
      "source": [
        "# Tools"
      ]
    },
    {
      "cell_type": "code",
      "metadata": {
        "id": "VxYkYhQTKouo",
        "colab_type": "code",
        "colab": {}
      },
      "source": [
        "library(tidyverse)"
      ],
      "execution_count": 0,
      "outputs": []
    },
    {
      "cell_type": "markdown",
      "metadata": {
        "id": "38aM6LTUkzhk",
        "colab_type": "text"
      },
      "source": [
        "# Source"
      ]
    },
    {
      "cell_type": "code",
      "metadata": {
        "id": "ihI70_BPKouq",
        "colab_type": "code",
        "colab": {}
      },
      "source": [
        "# 2020-0227_GIS_grid-point-metadata.csv\n",
        "src = \"https://drive.google.com/uc?id=16Xy28cDLE3P_j8Qwd9_uuNCsAwLKekdG\"\n",
        "df = read_csv(src)"
      ],
      "execution_count": 0,
      "outputs": []
    },
    {
      "cell_type": "code",
      "metadata": {
        "id": "7p64f67FlAfF",
        "colab_type": "code",
        "colab": {
          "base_uri": "https://localhost:8080/",
          "height": 612
        },
        "outputId": "45e14f22-134f-42fe-aa13-da25ad9d8b88"
      },
      "source": [
        "spec(df)"
      ],
      "execution_count": 4,
      "outputs": [
        {
          "output_type": "display_data",
          "data": {
            "text/plain": [
              "cols(\n",
              "  name = \u001b[32mcol_double()\u001b[39m,\n",
              "  lat = \u001b[32mcol_double()\u001b[39m,\n",
              "  long = \u001b[32mcol_double()\u001b[39m,\n",
              "  aspct_mean = \u001b[32mcol_double()\u001b[39m,\n",
              "  aspct_std = \u001b[32mcol_double()\u001b[39m,\n",
              "  elev_mean = \u001b[32mcol_double()\u001b[39m,\n",
              "  elev_std = \u001b[32mcol_double()\u001b[39m,\n",
              "  slp_mean = \u001b[32mcol_double()\u001b[39m,\n",
              "  slp_std = \u001b[32mcol_double()\u001b[39m,\n",
              "  apr_mean = \u001b[32mcol_double()\u001b[39m,\n",
              "  apr_std = \u001b[32mcol_double()\u001b[39m,\n",
              "  aug_mean = \u001b[32mcol_double()\u001b[39m,\n",
              "  aug_std = \u001b[32mcol_double()\u001b[39m,\n",
              "  dec_mean = \u001b[32mcol_double()\u001b[39m,\n",
              "  dec_std = \u001b[32mcol_double()\u001b[39m,\n",
              "  feb_mean = \u001b[32mcol_double()\u001b[39m,\n",
              "  feb_std = \u001b[32mcol_double()\u001b[39m,\n",
              "  jan_mean = \u001b[32mcol_double()\u001b[39m,\n",
              "  jan_std = \u001b[32mcol_double()\u001b[39m,\n",
              "  jul_mean = \u001b[32mcol_double()\u001b[39m,\n",
              "  jul_std = \u001b[32mcol_double()\u001b[39m,\n",
              "  jun_mean = \u001b[32mcol_double()\u001b[39m,\n",
              "  jun_std = \u001b[32mcol_double()\u001b[39m,\n",
              "  mar_mean = \u001b[32mcol_double()\u001b[39m,\n",
              "  mar_std = \u001b[32mcol_double()\u001b[39m,\n",
              "  may_mean = \u001b[32mcol_double()\u001b[39m,\n",
              "  may_std = \u001b[32mcol_double()\u001b[39m,\n",
              "  nov_mean = \u001b[32mcol_double()\u001b[39m,\n",
              "  nov_std = \u001b[32mcol_double()\u001b[39m,\n",
              "  oct_mean = \u001b[32mcol_double()\u001b[39m,\n",
              "  oct_std = \u001b[32mcol_double()\u001b[39m,\n",
              "  sep_mean = \u001b[32mcol_double()\u001b[39m,\n",
              "  sep_std = \u001b[32mcol_double()\u001b[39m\n",
              ")"
            ]
          },
          "metadata": {
            "tags": []
          }
        }
      ]
    },
    {
      "cell_type": "markdown",
      "metadata": {
        "id": "Yp4KgFAJl5pm",
        "colab_type": "text"
      },
      "source": [
        "# Structure Tables"
      ]
    },
    {
      "cell_type": "markdown",
      "metadata": {
        "id": "KQJ89rTul7WJ",
        "colab_type": "text"
      },
      "source": [
        "## point_location_position"
      ]
    },
    {
      "cell_type": "code",
      "metadata": {
        "id": "hERO4f5Bl6wX",
        "colab_type": "code",
        "colab": {}
      },
      "source": [
        "# select columns as specified in README\n",
        "plp <- df %>%\n",
        "  select(name, lat, long, aspct_mean, aspct_std, elev_mean, elev_std, slp_mean, slp_std)"
      ],
      "execution_count": 0,
      "outputs": []
    },
    {
      "cell_type": "code",
      "metadata": {
        "id": "HIj7OO6Cl-Du",
        "colab_type": "code",
        "colab": {}
      },
      "source": [
        "# update column names to schema specified in README\n",
        "names(plp) <- c(\"grid_point\", \"lat\", \"long\", \"aspect_mean_deg\", \"aspect_std_deg\", \"elevation_mean_m\", \"elevation_std_m\", \"slope_mean_deg\", \"slope_std_deg\")"
      ],
      "execution_count": 0,
      "outputs": []
    },
    {
      "cell_type": "code",
      "metadata": {
        "id": "eb-9IYatl-Aq",
        "colab_type": "code",
        "colab": {}
      },
      "source": [
        "# convert double datatype to integer\n",
        "plp$grid_point <- as.integer(plp$grid_point)"
      ],
      "execution_count": 0,
      "outputs": []
    },
    {
      "cell_type": "markdown",
      "metadata": {
        "id": "ng9-T-ho1Aj0",
        "colab_type": "text"
      },
      "source": [
        "## insolation"
      ]
    },
    {
      "cell_type": "code",
      "metadata": {
        "id": "Y51iOmWs1CEA",
        "colab_type": "code",
        "colab": {
          "base_uri": "https://localhost:8080/",
          "height": 1000
        },
        "outputId": "5383809e-12ac-4c59-8e49-7bdb0b6ed878"
      },
      "source": [
        "# select columns as specified in README\n",
        "ins <- df %>%\n",
        "  select(1, 10:33)\n",
        "\n",
        "str(ins)"
      ],
      "execution_count": 70,
      "outputs": [
        {
          "output_type": "stream",
          "text": [
            "tibble [582 × 25] (S3: spec_tbl_df/tbl_df/tbl/data.frame)\n",
            " $ name    : num [1:582] 1 2 3 4 5 6 7 8 9 10 ...\n",
            " $ apr_mean: num [1:582] 91861 125600 137630 133712 133260 ...\n",
            " $ apr_std : num [1:582] 2611 4366 1115 1473 929 ...\n",
            " $ aug_mean: num [1:582] 109567 144867 156306 152670 152193 ...\n",
            " $ aug_std : num [1:582] 2867 4432 1054 1428 892 ...\n",
            " $ dec_mean: num [1:582] 6423 12465 17150 15415 15335 ...\n",
            " $ dec_std : num [1:582] 58.6 1349.3 474.1 571.9 380.2 ...\n",
            " $ feb_mean: num [1:582] 17710 34244 43032 39878 39693 ...\n",
            " $ feb_std : num [1:582] 890 2630 857 1046 689 ...\n",
            " $ jan_mean: num [1:582] 8433 17239 23166 20989 20878 ...\n",
            " $ jan_std : num [1:582] 146 1721 593 717 476 ...\n",
            " $ jul_mean: num [1:582] 147773 181743 189349 187199 186723 ...\n",
            " $ jul_std : num [1:582] 3273 3919 697 1057 632 ...\n",
            " $ jun_mean: num [1:582] 152536 184737 190903 189285 188791 ...\n",
            " $ jun_std : num [1:582] 3269 3604 565 905 535 ...\n",
            " $ mar_mean: num [1:582] 50076 78923 91920 87441 87131 ...\n",
            " $ mar_std : num [1:582] 1743 4154 1236 1548 1004 ...\n",
            " $ may_mean: num [1:582] 138431 172929 181633 179069 178596 ...\n",
            " $ may_std : num [1:582] 3206 4081 796 1162 704 ...\n",
            " $ nov_mean: num [1:582] 9693 20138 26664 24281 24155 ...\n",
            " $ nov_std : num [1:582] 250 1907 649 786 520 ...\n",
            " $ oct_mean: num [1:582] 25417 46159 56720 52962 52728 ...\n",
            " $ oct_std : num [1:582] 1163 3208 1022 1255 825 ...\n",
            " $ sep_mean: num [1:582] 61965 93149 106443 101922 101574 ...\n",
            " $ sep_std : num [1:582] 2034 4357 1255 1590 1022 ...\n",
            " - attr(*, \"spec\")=\n",
            "  .. cols(\n",
            "  ..   name = \u001b[32mcol_double()\u001b[39m,\n",
            "  ..   lat = \u001b[32mcol_double()\u001b[39m,\n",
            "  ..   long = \u001b[32mcol_double()\u001b[39m,\n",
            "  ..   aspct_mean = \u001b[32mcol_double()\u001b[39m,\n",
            "  ..   aspct_std = \u001b[32mcol_double()\u001b[39m,\n",
            "  ..   elev_mean = \u001b[32mcol_double()\u001b[39m,\n",
            "  ..   elev_std = \u001b[32mcol_double()\u001b[39m,\n",
            "  ..   slp_mean = \u001b[32mcol_double()\u001b[39m,\n",
            "  ..   slp_std = \u001b[32mcol_double()\u001b[39m,\n",
            "  ..   apr_mean = \u001b[32mcol_double()\u001b[39m,\n",
            "  ..   apr_std = \u001b[32mcol_double()\u001b[39m,\n",
            "  ..   aug_mean = \u001b[32mcol_double()\u001b[39m,\n",
            "  ..   aug_std = \u001b[32mcol_double()\u001b[39m,\n",
            "  ..   dec_mean = \u001b[32mcol_double()\u001b[39m,\n",
            "  ..   dec_std = \u001b[32mcol_double()\u001b[39m,\n",
            "  ..   feb_mean = \u001b[32mcol_double()\u001b[39m,\n",
            "  ..   feb_std = \u001b[32mcol_double()\u001b[39m,\n",
            "  ..   jan_mean = \u001b[32mcol_double()\u001b[39m,\n",
            "  ..   jan_std = \u001b[32mcol_double()\u001b[39m,\n",
            "  ..   jul_mean = \u001b[32mcol_double()\u001b[39m,\n",
            "  ..   jul_std = \u001b[32mcol_double()\u001b[39m,\n",
            "  ..   jun_mean = \u001b[32mcol_double()\u001b[39m,\n",
            "  ..   jun_std = \u001b[32mcol_double()\u001b[39m,\n",
            "  ..   mar_mean = \u001b[32mcol_double()\u001b[39m,\n",
            "  ..   mar_std = \u001b[32mcol_double()\u001b[39m,\n",
            "  ..   may_mean = \u001b[32mcol_double()\u001b[39m,\n",
            "  ..   may_std = \u001b[32mcol_double()\u001b[39m,\n",
            "  ..   nov_mean = \u001b[32mcol_double()\u001b[39m,\n",
            "  ..   nov_std = \u001b[32mcol_double()\u001b[39m,\n",
            "  ..   oct_mean = \u001b[32mcol_double()\u001b[39m,\n",
            "  ..   oct_std = \u001b[32mcol_double()\u001b[39m,\n",
            "  ..   sep_mean = \u001b[32mcol_double()\u001b[39m,\n",
            "  ..   sep_std = \u001b[32mcol_double()\u001b[39m\n",
            "  .. )\n"
          ],
          "name": "stdout"
        }
      ]
    },
    {
      "cell_type": "code",
      "metadata": {
        "id": "EuH-ocb52rJq",
        "colab_type": "code",
        "colab": {}
      },
      "source": [
        "# update column names to schema specified in README\n",
        "names(ins) <- c('grid_point', 'insol_apr_mean', 'insol_apr_std', 'insol_aug_mean', 'insol_aug_std', 'insol_dec_mean',\n",
        "  'insol_dec_std', 'insol_feb_mean', 'insol_feb_std', 'insol_jan_mean', 'insol_jan_std', 'insol_jul_mean', \n",
        "  'insol_jul_std', 'insol_jun_mean', 'insol_jun_std', 'insol_mar_mean', 'insol_mar_std', 'insol_may_mean', \n",
        "  'insol_may_std', 'insol_nov_mean', 'insol_nov_std', 'insol_oct_mean', 'insol_oct_std', 'insol_sep_mean', \n",
        "  'insol_sep_std')"
      ],
      "execution_count": 0,
      "outputs": []
    },
    {
      "cell_type": "markdown",
      "metadata": {
        "id": "b-iOLcIxqPMY",
        "colab_type": "text"
      },
      "source": [
        "# Explore"
      ]
    },
    {
      "cell_type": "markdown",
      "metadata": {
        "id": "2ae_wkG3uWYn",
        "colab_type": "text"
      },
      "source": [
        "## point_location_position"
      ]
    },
    {
      "cell_type": "code",
      "metadata": {
        "id": "a_cmE-jDrgjQ",
        "colab_type": "code",
        "colab": {
          "base_uri": "https://localhost:8080/",
          "height": 17
        },
        "outputId": "c95c5319-1167-4223-a5c7-9490170a3b3b"
      },
      "source": [
        "# look for NAs\n",
        "plp %>%\n",
        "  select_if(function(x) any(is.na(x))) %>%\n",
        "  summarise_each(funs(sum(is.na(.))))\n",
        "# no NAs present"
      ],
      "execution_count": 57,
      "outputs": [
        {
          "output_type": "display_data",
          "data": {
            "text/plain": [
              " \n",
              "1"
            ],
            "text/latex": "",
            "text/markdown": "",
            "text/html": [
              ""
            ]
          },
          "metadata": {
            "tags": []
          }
        }
      ]
    },
    {
      "cell_type": "code",
      "metadata": {
        "id": "VqDorcVG0w8w",
        "colab_type": "code",
        "colab": {
          "base_uri": "https://localhost:8080/",
          "height": 799
        },
        "outputId": "efd10fce-ee4e-4412-9310-69e43e66e1c9"
      },
      "source": [
        "str(plp)"
      ],
      "execution_count": 64,
      "outputs": [
        {
          "output_type": "stream",
          "text": [
            "tibble [582 × 9] (S3: spec_tbl_df/tbl_df/tbl/data.frame)\n",
            " $ grid_point      : int [1:582] 1 2 3 4 5 6 7 8 9 10 ...\n",
            " $ lat             : num [1:582] 46.7 46.7 46.7 46.7 46.7 ...\n",
            " $ long            : num [1:582] -114 -114 -114 -114 -114 ...\n",
            " $ aspect_mean_deg : num [1:582] 334.7 45.3 221.3 290.5 288.3 ...\n",
            " $ aspect_std_deg  : num [1:582] 1.43 7.82 5.64 27.22 12.13 ...\n",
            " $ elevation_mean_m: num [1:582] 1396 1456 1127 1166 1180 ...\n",
            " $ elevation_std_m : num [1:582] 4.416 2.109 0.7 0.471 0.806 ...\n",
            " $ slope_mean_deg  : num [1:582] 28.44 12.23 4.25 2.68 4.26 ...\n",
            " $ slope_std_deg   : num [1:582] 1.205 2.504 0.472 0.64 0.883 ...\n",
            " - attr(*, \"spec\")=\n",
            "  .. cols(\n",
            "  ..   name = \u001b[32mcol_double()\u001b[39m,\n",
            "  ..   lat = \u001b[32mcol_double()\u001b[39m,\n",
            "  ..   long = \u001b[32mcol_double()\u001b[39m,\n",
            "  ..   aspct_mean = \u001b[32mcol_double()\u001b[39m,\n",
            "  ..   aspct_std = \u001b[32mcol_double()\u001b[39m,\n",
            "  ..   elev_mean = \u001b[32mcol_double()\u001b[39m,\n",
            "  ..   elev_std = \u001b[32mcol_double()\u001b[39m,\n",
            "  ..   slp_mean = \u001b[32mcol_double()\u001b[39m,\n",
            "  ..   slp_std = \u001b[32mcol_double()\u001b[39m,\n",
            "  ..   apr_mean = \u001b[32mcol_double()\u001b[39m,\n",
            "  ..   apr_std = \u001b[32mcol_double()\u001b[39m,\n",
            "  ..   aug_mean = \u001b[32mcol_double()\u001b[39m,\n",
            "  ..   aug_std = \u001b[32mcol_double()\u001b[39m,\n",
            "  ..   dec_mean = \u001b[32mcol_double()\u001b[39m,\n",
            "  ..   dec_std = \u001b[32mcol_double()\u001b[39m,\n",
            "  ..   feb_mean = \u001b[32mcol_double()\u001b[39m,\n",
            "  ..   feb_std = \u001b[32mcol_double()\u001b[39m,\n",
            "  ..   jan_mean = \u001b[32mcol_double()\u001b[39m,\n",
            "  ..   jan_std = \u001b[32mcol_double()\u001b[39m,\n",
            "  ..   jul_mean = \u001b[32mcol_double()\u001b[39m,\n",
            "  ..   jul_std = \u001b[32mcol_double()\u001b[39m,\n",
            "  ..   jun_mean = \u001b[32mcol_double()\u001b[39m,\n",
            "  ..   jun_std = \u001b[32mcol_double()\u001b[39m,\n",
            "  ..   mar_mean = \u001b[32mcol_double()\u001b[39m,\n",
            "  ..   mar_std = \u001b[32mcol_double()\u001b[39m,\n",
            "  ..   may_mean = \u001b[32mcol_double()\u001b[39m,\n",
            "  ..   may_std = \u001b[32mcol_double()\u001b[39m,\n",
            "  ..   nov_mean = \u001b[32mcol_double()\u001b[39m,\n",
            "  ..   nov_std = \u001b[32mcol_double()\u001b[39m,\n",
            "  ..   oct_mean = \u001b[32mcol_double()\u001b[39m,\n",
            "  ..   oct_std = \u001b[32mcol_double()\u001b[39m,\n",
            "  ..   sep_mean = \u001b[32mcol_double()\u001b[39m,\n",
            "  ..   sep_std = \u001b[32mcol_double()\u001b[39m\n",
            "  .. )\n"
          ],
          "name": "stdout"
        }
      ]
    },
    {
      "cell_type": "markdown",
      "metadata": {
        "id": "TkufAv1t09fK",
        "colab_type": "text"
      },
      "source": [
        "## insolation"
      ]
    },
    {
      "cell_type": "code",
      "metadata": {
        "id": "Sn-LwdDl3yZi",
        "colab_type": "code",
        "colab": {
          "base_uri": "https://localhost:8080/",
          "height": 17
        },
        "outputId": "8935c338-2b45-4f49-efa5-fd9ba33e253b"
      },
      "source": [
        "# look for NAs\n",
        "ins %>%\n",
        "  select_if(function(x) any(is.na(x))) %>%\n",
        "  summarise_each(funs(sum(is.na(.))))\n",
        "# no NAs present"
      ],
      "execution_count": 80,
      "outputs": [
        {
          "output_type": "display_data",
          "data": {
            "text/plain": [
              " \n",
              "1"
            ],
            "text/latex": "",
            "text/markdown": "",
            "text/html": [
              ""
            ]
          },
          "metadata": {
            "tags": []
          }
        }
      ]
    },
    {
      "cell_type": "code",
      "metadata": {
        "id": "Pw6M9NIt4sTz",
        "colab_type": "code",
        "colab": {
          "base_uri": "https://localhost:8080/",
          "height": 234
        },
        "outputId": "0ae3edde-9c39-4844-d48d-0ec7f44e7ac7"
      },
      "source": [
        "# another option for NA search\n",
        "ins[!complete.cases(ins),]"
      ],
      "execution_count": 86,
      "outputs": [
        {
          "output_type": "stream",
          "text": [
            "Warning message in cbind(parts$left, ellip_h, parts$right, deparse.level = 0L):\n",
            "“number of rows of result is not a multiple of vector length (arg 2)”\n",
            "Warning message in cbind(parts$left, ellip_h, parts$right, deparse.level = 0L):\n",
            "“number of rows of result is not a multiple of vector length (arg 2)”\n",
            "Warning message in cbind(parts$left, ellip_h, parts$right, deparse.level = 0L):\n",
            "“number of rows of result is not a multiple of vector length (arg 2)”\n",
            "Warning message in cbind(parts$left, ellip_h, parts$right, deparse.level = 0L):\n",
            "“number of rows of result is not a multiple of vector length (arg 2)”\n"
          ],
          "name": "stderr"
        },
        {
          "output_type": "display_data",
          "data": {
            "text/plain": [
              "     grid_point insol_apr_mean insol_apr_std insol_aug_mean insol_aug_std\n",
              "     insol_dec_mean insol_dec_std insol_feb_mean insol_feb_std insol_jan_mean ⋯\n",
              "     insol_mar_mean insol_mar_std insol_may_mean insol_may_std insol_nov_mean\n",
              "     insol_nov_std insol_oct_mean insol_oct_std insol_sep_mean insol_sep_std"
            ],
            "text/latex": "A tibble: 0 × 25\n\\begin{tabular}{lllllllllllllllllllll}\n grid\\_point & insol\\_apr\\_mean & insol\\_apr\\_std & insol\\_aug\\_mean & insol\\_aug\\_std & insol\\_dec\\_mean & insol\\_dec\\_std & insol\\_feb\\_mean & insol\\_feb\\_std & insol\\_jan\\_mean & ⋯ & insol\\_mar\\_mean & insol\\_mar\\_std & insol\\_may\\_mean & insol\\_may\\_std & insol\\_nov\\_mean & insol\\_nov\\_std & insol\\_oct\\_mean & insol\\_oct\\_std & insol\\_sep\\_mean & insol\\_sep\\_std\\\\\n <dbl> & <dbl> & <dbl> & <dbl> & <dbl> & <dbl> & <dbl> & <dbl> & <dbl> & <dbl> & ⋯ & <dbl> & <dbl> & <dbl> & <dbl> & <dbl> & <dbl> & <dbl> & <dbl> & <dbl> & <dbl>\\\\\n\\hline\n\\end{tabular}\n",
            "text/markdown": "\nA tibble: 0 × 25\n\n| grid_point &lt;dbl&gt; | insol_apr_mean &lt;dbl&gt; | insol_apr_std &lt;dbl&gt; | insol_aug_mean &lt;dbl&gt; | insol_aug_std &lt;dbl&gt; | insol_dec_mean &lt;dbl&gt; | insol_dec_std &lt;dbl&gt; | insol_feb_mean &lt;dbl&gt; | insol_feb_std &lt;dbl&gt; | insol_jan_mean &lt;dbl&gt; | ⋯ ⋯ | insol_mar_mean &lt;dbl&gt; | insol_mar_std &lt;dbl&gt; | insol_may_mean &lt;dbl&gt; | insol_may_std &lt;dbl&gt; | insol_nov_mean &lt;dbl&gt; | insol_nov_std &lt;dbl&gt; | insol_oct_mean &lt;dbl&gt; | insol_oct_std &lt;dbl&gt; | insol_sep_mean &lt;dbl&gt; | insol_sep_std &lt;dbl&gt; |\n|---|---|---|---|---|---|---|---|---|---|---|---|---|---|---|---|---|---|---|---|---|\n\n",
            "text/html": [
              "<table>\n",
              "<caption>A tibble: 0 × 25</caption>\n",
              "<thead>\n",
              "\t<tr><th scope=col>grid_point</th><th scope=col>insol_apr_mean</th><th scope=col>insol_apr_std</th><th scope=col>insol_aug_mean</th><th scope=col>insol_aug_std</th><th scope=col>insol_dec_mean</th><th scope=col>insol_dec_std</th><th scope=col>insol_feb_mean</th><th scope=col>insol_feb_std</th><th scope=col>insol_jan_mean</th><th scope=col>⋯</th><th scope=col>insol_mar_mean</th><th scope=col>insol_mar_std</th><th scope=col>insol_may_mean</th><th scope=col>insol_may_std</th><th scope=col>insol_nov_mean</th><th scope=col>insol_nov_std</th><th scope=col>insol_oct_mean</th><th scope=col>insol_oct_std</th><th scope=col>insol_sep_mean</th><th scope=col>insol_sep_std</th></tr>\n",
              "\t<tr><th scope=col>&lt;dbl&gt;</th><th scope=col>&lt;dbl&gt;</th><th scope=col>&lt;dbl&gt;</th><th scope=col>&lt;dbl&gt;</th><th scope=col>&lt;dbl&gt;</th><th scope=col>&lt;dbl&gt;</th><th scope=col>&lt;dbl&gt;</th><th scope=col>&lt;dbl&gt;</th><th scope=col>&lt;dbl&gt;</th><th scope=col>&lt;dbl&gt;</th><th scope=col>⋯</th><th scope=col>&lt;dbl&gt;</th><th scope=col>&lt;dbl&gt;</th><th scope=col>&lt;dbl&gt;</th><th scope=col>&lt;dbl&gt;</th><th scope=col>&lt;dbl&gt;</th><th scope=col>&lt;dbl&gt;</th><th scope=col>&lt;dbl&gt;</th><th scope=col>&lt;dbl&gt;</th><th scope=col>&lt;dbl&gt;</th><th scope=col>&lt;dbl&gt;</th></tr>\n",
              "</thead>\n",
              "<tbody>\n",
              "</tbody>\n",
              "</table>\n"
            ]
          },
          "metadata": {
            "tags": []
          }
        }
      ]
    },
    {
      "cell_type": "code",
      "metadata": {
        "id": "GDiI0HKv3yTE",
        "colab_type": "code",
        "colab": {
          "base_uri": "https://localhost:8080/",
          "height": 1000
        },
        "outputId": "67864374-cc02-4afd-c486-40ef0a451780"
      },
      "source": [
        "str(ins)"
      ],
      "execution_count": 81,
      "outputs": [
        {
          "output_type": "stream",
          "text": [
            "tibble [582 × 25] (S3: spec_tbl_df/tbl_df/tbl/data.frame)\n",
            " $ grid_point    : num [1:582] 1 2 3 4 5 6 7 8 9 10 ...\n",
            " $ insol_apr_mean: num [1:582] 91861 125600 137630 133712 133260 ...\n",
            " $ insol_apr_std : num [1:582] 2611 4366 1115 1473 929 ...\n",
            " $ insol_aug_mean: num [1:582] 109567 144867 156306 152670 152193 ...\n",
            " $ insol_aug_std : num [1:582] 2867 4432 1054 1428 892 ...\n",
            " $ insol_dec_mean: num [1:582] 6423 12465 17150 15415 15335 ...\n",
            " $ insol_dec_std : num [1:582] 58.6 1349.3 474.1 571.9 380.2 ...\n",
            " $ insol_feb_mean: num [1:582] 17710 34244 43032 39878 39693 ...\n",
            " $ insol_feb_std : num [1:582] 890 2630 857 1046 689 ...\n",
            " $ insol_jan_mean: num [1:582] 8433 17239 23166 20989 20878 ...\n",
            " $ insol_jan_std : num [1:582] 146 1721 593 717 476 ...\n",
            " $ insol_jul_mean: num [1:582] 147773 181743 189349 187199 186723 ...\n",
            " $ insol_jul_std : num [1:582] 3273 3919 697 1057 632 ...\n",
            " $ insol_jun_mean: num [1:582] 152536 184737 190903 189285 188791 ...\n",
            " $ insol_jun_std : num [1:582] 3269 3604 565 905 535 ...\n",
            " $ insol_mar_mean: num [1:582] 50076 78923 91920 87441 87131 ...\n",
            " $ insol_mar_std : num [1:582] 1743 4154 1236 1548 1004 ...\n",
            " $ insol_may_mean: num [1:582] 138431 172929 181633 179069 178596 ...\n",
            " $ insol_may_std : num [1:582] 3206 4081 796 1162 704 ...\n",
            " $ insol_nov_mean: num [1:582] 9693 20138 26664 24281 24155 ...\n",
            " $ insol_nov_std : num [1:582] 250 1907 649 786 520 ...\n",
            " $ insol_oct_mean: num [1:582] 25417 46159 56720 52962 52728 ...\n",
            " $ insol_oct_std : num [1:582] 1163 3208 1022 1255 825 ...\n",
            " $ insol_sep_mean: num [1:582] 61965 93149 106443 101922 101574 ...\n",
            " $ insol_sep_std : num [1:582] 2034 4357 1255 1590 1022 ...\n",
            " - attr(*, \"spec\")=\n",
            "  .. cols(\n",
            "  ..   name = \u001b[32mcol_double()\u001b[39m,\n",
            "  ..   lat = \u001b[32mcol_double()\u001b[39m,\n",
            "  ..   long = \u001b[32mcol_double()\u001b[39m,\n",
            "  ..   aspct_mean = \u001b[32mcol_double()\u001b[39m,\n",
            "  ..   aspct_std = \u001b[32mcol_double()\u001b[39m,\n",
            "  ..   elev_mean = \u001b[32mcol_double()\u001b[39m,\n",
            "  ..   elev_std = \u001b[32mcol_double()\u001b[39m,\n",
            "  ..   slp_mean = \u001b[32mcol_double()\u001b[39m,\n",
            "  ..   slp_std = \u001b[32mcol_double()\u001b[39m,\n",
            "  ..   apr_mean = \u001b[32mcol_double()\u001b[39m,\n",
            "  ..   apr_std = \u001b[32mcol_double()\u001b[39m,\n",
            "  ..   aug_mean = \u001b[32mcol_double()\u001b[39m,\n",
            "  ..   aug_std = \u001b[32mcol_double()\u001b[39m,\n",
            "  ..   dec_mean = \u001b[32mcol_double()\u001b[39m,\n",
            "  ..   dec_std = \u001b[32mcol_double()\u001b[39m,\n",
            "  ..   feb_mean = \u001b[32mcol_double()\u001b[39m,\n",
            "  ..   feb_std = \u001b[32mcol_double()\u001b[39m,\n",
            "  ..   jan_mean = \u001b[32mcol_double()\u001b[39m,\n",
            "  ..   jan_std = \u001b[32mcol_double()\u001b[39m,\n",
            "  ..   jul_mean = \u001b[32mcol_double()\u001b[39m,\n",
            "  ..   jul_std = \u001b[32mcol_double()\u001b[39m,\n",
            "  ..   jun_mean = \u001b[32mcol_double()\u001b[39m,\n",
            "  ..   jun_std = \u001b[32mcol_double()\u001b[39m,\n",
            "  ..   mar_mean = \u001b[32mcol_double()\u001b[39m,\n",
            "  ..   mar_std = \u001b[32mcol_double()\u001b[39m,\n",
            "  ..   may_mean = \u001b[32mcol_double()\u001b[39m,\n",
            "  ..   may_std = \u001b[32mcol_double()\u001b[39m,\n",
            "  ..   nov_mean = \u001b[32mcol_double()\u001b[39m,\n",
            "  ..   nov_std = \u001b[32mcol_double()\u001b[39m,\n",
            "  ..   oct_mean = \u001b[32mcol_double()\u001b[39m,\n",
            "  ..   oct_std = \u001b[32mcol_double()\u001b[39m,\n",
            "  ..   sep_mean = \u001b[32mcol_double()\u001b[39m,\n",
            "  ..   sep_std = \u001b[32mcol_double()\u001b[39m\n",
            "  .. )\n"
          ],
          "name": "stdout"
        }
      ]
    },
    {
      "cell_type": "markdown",
      "metadata": {
        "id": "YjojkPylubdi",
        "colab_type": "text"
      },
      "source": [
        "# Output"
      ]
    },
    {
      "cell_type": "markdown",
      "metadata": {
        "id": "Iiy5VRffudHT",
        "colab_type": "text"
      },
      "source": [
        "## point_location_position"
      ]
    },
    {
      "cell_type": "code",
      "metadata": {
        "id": "9NI5THo_mAgF",
        "colab_type": "code",
        "colab": {}
      },
      "source": [
        "# output uploaded to Google Drive and pushed to BigQuery 2020-05-21\n",
        "write_csv(plp, path = \"point_location_position.csv\")"
      ],
      "execution_count": 0,
      "outputs": []
    },
    {
      "cell_type": "markdown",
      "metadata": {
        "id": "BZT7QrSH5Tmg",
        "colab_type": "text"
      },
      "source": [
        "## insolation"
      ]
    },
    {
      "cell_type": "code",
      "metadata": {
        "id": "yX3TKBR15VEM",
        "colab_type": "code",
        "colab": {}
      },
      "source": [
        "# output uploaded to Google Drive and pushed to BigQuery 2020-05-21\n",
        "write_csv(ins, path = \"insolation.csv\")"
      ],
      "execution_count": 0,
      "outputs": []
    }
  ]
}